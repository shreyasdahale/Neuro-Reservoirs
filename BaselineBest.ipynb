{
 "cells": [
  {
   "cell_type": "code",
   "execution_count": 1,
   "id": "e2849d10",
   "metadata": {},
   "outputs": [],
   "source": [
    "import numpy as np\n",
    "import itertools\n",
    "from scipy.integrate import odeint\n",
    "from sklearn.preprocessing import StandardScaler\n",
    "from models.CR import CR3D\n",
    "from models.ESN import ESN3D\n",
    "from models.SparseESN import SparseESN3D\n",
    "from metrics.metrics import compute_valid_prediction_time"
   ]
  },
  {
   "cell_type": "code",
   "execution_count": 2,
   "id": "02f3b6a3",
   "metadata": {},
   "outputs": [
    {
     "name": "stdout",
     "output_type": "stream",
     "text": [
      "Data length: 10001, from t=0..110 with dt=0.01.\n",
      "Train size: 7000  Test size: 3000\n"
     ]
    }
   ],
   "source": [
    "def lorenz_deriv(state, t, sigma=10.0, rho=28.0, beta=8.0/3.0):\n",
    "    x, y, z = state\n",
    "    dxdt = sigma * (y - x)\n",
    "    dydt = x*(rho - z) - y\n",
    "    dzdt = x*y - beta*z\n",
    "    return [dxdt, dydt, dzdt]\n",
    "\n",
    "def generate_lorenz_data(\n",
    "    initial_state=[1.0, 1.0, 1.0],\n",
    "    tmax=25.0,\n",
    "    dt=0.01,\n",
    "    sigma=10.0,\n",
    "    rho=28.0,\n",
    "    beta=8.0/3.0\n",
    "):\n",
    "    num_steps = int(tmax / dt) + 1 # +1 to include t=0\n",
    "    t_vals = np.linspace(0, tmax, num_steps)\n",
    "    sol = odeint(lorenz_deriv, initial_state, t_vals, args=(sigma, rho, beta))\n",
    "    return t_vals, sol\n",
    "\n",
    "def report_vpt(name, preds, test_target, time_test, dt):\n",
    "    T_VPT, T_lambda, ratio = compute_valid_prediction_time(\n",
    "        test_target, preds, time_test, threshold=0.4, lambda_max=0.9, dt=dt\n",
    "    )\n",
    "    # print(f\"{name:20s} => T_VPT={T_VPT:.3f},  T_lambda={T_lambda:.3f}, ratio={ratio:.3f}\")\n",
    "    return T_VPT, T_lambda, ratio\n",
    "\n",
    "# 1) Generate Lorenz data\n",
    "tmax = 110\n",
    "dt   = 0.01\n",
    "t_vals, lorenz_traj = generate_lorenz_data(\n",
    "    initial_state=[1.0,1.0,1.0],\n",
    "    tmax=tmax,\n",
    "    dt=dt\n",
    ")\n",
    "\n",
    "washout = 1000\n",
    "t_vals = t_vals[washout:]\n",
    "lorenz_traj = lorenz_traj[washout:]\n",
    "\n",
    "# normalize\n",
    "scaler = StandardScaler()\n",
    "scaler.fit(lorenz_traj)\n",
    "lorenz_traj = scaler.transform(lorenz_traj)\n",
    "\n",
    "T_data = len(lorenz_traj)\n",
    "print(f\"Data length: {T_data}, from t=0..{tmax} with dt={dt}.\")\n",
    "\n",
    "n_test_steps = 3000\n",
    "\n",
    "# train/test split\n",
    "train_frac = 0.7\n",
    "train_end = int(train_frac*(T_data-1))\n",
    "train_input  = lorenz_traj[:train_end]\n",
    "train_target = lorenz_traj[1:train_end+1]\n",
    "test_input   = lorenz_traj[train_end:train_end+n_test_steps]\n",
    "test_target  = lorenz_traj[train_end+1:train_end+n_test_steps+1]\n",
    "print(f\"Train size: {len(train_input)}  Test size: {len(test_input)}\")\n",
    "\n",
    "initial_in = test_input[0]"
   ]
  },
  {
   "cell_type": "code",
   "execution_count": 3,
   "id": "9a468426",
   "metadata": {},
   "outputs": [
    {
     "data": {
      "text/plain": [
       "(121.99999999999989, 1.1111111111111112, 73.098)"
      ]
     },
     "execution_count": 3,
     "metadata": {},
     "output_type": "execute_result"
    }
   ],
   "source": [
    "# (a) Baseline ESN\n",
    "esn = ESN3D(\n",
    "    reservoir_size=300,\n",
    "    spectral_radius=0.95,\n",
    "    input_scale=1.0,\n",
    "    leaking_rate=0.8,\n",
    "    ridge_alpha=1e-6,\n",
    "    seed=42\n",
    ")\n",
    "esn.fit_readout(train_input, train_target, discard=100)\n",
    "\n",
    "# (b) Cycle Reservoir\n",
    "cycle_res = CR3D(\n",
    "    reservoir_size=300,\n",
    "    spectral_radius=0.95,\n",
    "    input_scale=1.0,\n",
    "    leaking_rate=0.8,\n",
    "    ridge_alpha=1e-6,\n",
    "    seed=43\n",
    ")\n",
    "cycle_res.fit_readout(train_input, train_target, discard=100)\n",
    "\n",
    "# (c) Sparse ESN\n",
    "sparse_res = SparseESN3D(\n",
    "    reservoir_size=300,\n",
    "    spectral_radius=0.95,\n",
    "    connectivity=0.04,\n",
    "    input_scale=1.0,\n",
    "    leaking_rate=0.8,\n",
    "    ridge_alpha=1e-6,\n",
    "    seed=44\n",
    ")\n",
    "sparse_res.fit_readout(train_input, train_target, discard=100)\n",
    "\n",
    "esn_preds    = esn.predict_autoregressive(initial_in, n_test_steps)\n",
    "cycle_preds  = cycle_res.predict_autoregressive(initial_in, n_test_steps)\n",
    "sparse_preds = sparse_res.predict_autoregressive(initial_in, n_test_steps)\n",
    "\n",
    "report_vpt(\"Dense ESN\",    esn_preds, test_target, t_vals[train_end:train_end+n_test_steps], dt)\n",
    "report_vpt(\"Cycle Res\",  cycle_preds, test_target, t_vals[train_end:train_end+n_test_steps], dt)\n",
    "report_vpt(\"Sparse ESN\",   sparse_preds, test_target, t_vals[train_end:train_end+n_test_steps], dt)"
   ]
  },
  {
   "cell_type": "code",
   "execution_count": 4,
   "id": "8f8fe901",
   "metadata": {},
   "outputs": [],
   "source": [
    "# Define your parameter grids\n",
    "param_grid_common = {\n",
    "    \"spectral_radius\": [0.1, 0.2, 0.3, 0.4, 0.5, 0.6, 0.7, 0.8, 0.9, 1.0, 1.1, 1.2],\n",
    "    \"input_scale\": [0.1, 0.2, 0.3, 0.4, 0.5, 0.6, 0.7, 0.8, 0.9, 1.0],\n",
    "    \"leaking_rate\": [0.1, 0.2, 0.3, 0.4, 0.5, 0.6, 0.7, 0.8, 0.9],\n",
    "    \"ridge_alpha\": [1e-4, 1e-5, 1e-6, 1e-7, 1e-8, 1e-9]\n",
    "}\n",
    "\n",
    "param_grid_sparse = {\n",
    "    **param_grid_common,\n",
    "    \"connectivity\": [0.01, 0.02, 0.03, 0.04, 0.05, 0.06, 0.07, 0.08, 0.09, 0.1]\n",
    "}\n",
    "\n",
    "def run_grid_search_top2(model_class, param_grid, model_name):\n",
    "    scored_params = []\n",
    "    all_combinations = list(itertools.product(*param_grid.values()))\n",
    "\n",
    "    for comb in all_combinations:\n",
    "        params = dict(zip(param_grid.keys(), comb))\n",
    "        model = model_class(reservoir_size=300, **params)\n",
    "        model.fit_readout(train_input, train_target, discard=100)\n",
    "        preds = model.predict_autoregressive(initial_in, n_test_steps)\n",
    "        T_VPT, _, _ = compute_valid_prediction_time(\n",
    "            test_target, preds, t_vals[train_end:train_end+n_test_steps],\n",
    "            threshold=0.4, lambda_max=0.9, dt=dt\n",
    "        )\n",
    "        scored_params.append((T_VPT, params))\n",
    "\n",
    "    # Sort by T_VPT descending and pick top 2\n",
    "    top_2 = sorted(scored_params, key=lambda x: x[0], reverse=True)[:2]\n",
    "\n",
    "    print(f\"Top 2 results for {model_name}:\")\n",
    "    for i, (score, params) in enumerate(top_2):\n",
    "        print(f\"{i+1}) T_VPT={score:.3f} with params {params}\")\n",
    "\n",
    "    return top_2"
   ]
  },
  {
   "cell_type": "code",
   "execution_count": 5,
   "id": "5f43f81e",
   "metadata": {},
   "outputs": [
    {
     "ename": "KeyboardInterrupt",
     "evalue": "",
     "output_type": "error",
     "traceback": [
      "\u001b[1;31m---------------------------------------------------------------------------\u001b[0m",
      "\u001b[1;31mKeyboardInterrupt\u001b[0m                         Traceback (most recent call last)",
      "Cell \u001b[1;32mIn[5], line 1\u001b[0m\n\u001b[1;32m----> 1\u001b[0m top2_esn     \u001b[38;5;241m=\u001b[39m \u001b[43mrun_grid_search_top2\u001b[49m\u001b[43m(\u001b[49m\u001b[43mESN3D\u001b[49m\u001b[43m,\u001b[49m\u001b[43m \u001b[49m\u001b[43mparam_grid_common\u001b[49m\u001b[43m,\u001b[49m\u001b[43m \u001b[49m\u001b[38;5;124;43m\"\u001b[39;49m\u001b[38;5;124;43mDense ESN\u001b[39;49m\u001b[38;5;124;43m\"\u001b[39;49m\u001b[43m)\u001b[49m\n\u001b[0;32m      2\u001b[0m top2_cr      \u001b[38;5;241m=\u001b[39m run_grid_search_top2(CR3D, param_grid_common, \u001b[38;5;124m\"\u001b[39m\u001b[38;5;124mCycle Res\u001b[39m\u001b[38;5;124m\"\u001b[39m)\n\u001b[0;32m      3\u001b[0m top2_sparse  \u001b[38;5;241m=\u001b[39m run_grid_search_top2(SparseESN3D, param_grid_sparse, \u001b[38;5;124m\"\u001b[39m\u001b[38;5;124mSparse ESN\u001b[39m\u001b[38;5;124m\"\u001b[39m)\n",
      "Cell \u001b[1;32mIn[4], line 21\u001b[0m, in \u001b[0;36mrun_grid_search_top2\u001b[1;34m(model_class, param_grid, model_name)\u001b[0m\n\u001b[0;32m     19\u001b[0m params \u001b[38;5;241m=\u001b[39m \u001b[38;5;28mdict\u001b[39m(\u001b[38;5;28mzip\u001b[39m(param_grid\u001b[38;5;241m.\u001b[39mkeys(), comb))\n\u001b[0;32m     20\u001b[0m model \u001b[38;5;241m=\u001b[39m model_class(reservoir_size\u001b[38;5;241m=\u001b[39m\u001b[38;5;241m300\u001b[39m, \u001b[38;5;241m*\u001b[39m\u001b[38;5;241m*\u001b[39mparams)\n\u001b[1;32m---> 21\u001b[0m \u001b[43mmodel\u001b[49m\u001b[38;5;241;43m.\u001b[39;49m\u001b[43mfit_readout\u001b[49m\u001b[43m(\u001b[49m\u001b[43mtrain_input\u001b[49m\u001b[43m,\u001b[49m\u001b[43m \u001b[49m\u001b[43mtrain_target\u001b[49m\u001b[43m,\u001b[49m\u001b[43m \u001b[49m\u001b[43mdiscard\u001b[49m\u001b[38;5;241;43m=\u001b[39;49m\u001b[38;5;241;43m100\u001b[39;49m\u001b[43m)\u001b[49m\n\u001b[0;32m     22\u001b[0m preds \u001b[38;5;241m=\u001b[39m model\u001b[38;5;241m.\u001b[39mpredict_autoregressive(initial_in, n_test_steps)\n\u001b[0;32m     23\u001b[0m T_VPT, _, _ \u001b[38;5;241m=\u001b[39m compute_valid_prediction_time(\n\u001b[0;32m     24\u001b[0m     test_target, preds, t_vals[train_end:train_end\u001b[38;5;241m+\u001b[39mn_test_steps],\n\u001b[0;32m     25\u001b[0m     threshold\u001b[38;5;241m=\u001b[39m\u001b[38;5;241m0.4\u001b[39m, lambda_max\u001b[38;5;241m=\u001b[39m\u001b[38;5;241m0.9\u001b[39m, dt\u001b[38;5;241m=\u001b[39mdt\n\u001b[0;32m     26\u001b[0m )\n",
      "File \u001b[1;32mc:\\Users\\shrey\\Downloads\\Neuro-Reservoirs\\models\\ESN.py:76\u001b[0m, in \u001b[0;36mESN3D.fit_readout\u001b[1;34m(self, train_input, train_target, discard)\u001b[0m\n\u001b[0;32m     75\u001b[0m \u001b[38;5;28;01mdef\u001b[39;00m \u001b[38;5;21mfit_readout\u001b[39m(\u001b[38;5;28mself\u001b[39m, train_input, train_target, discard\u001b[38;5;241m=\u001b[39m\u001b[38;5;241m100\u001b[39m):\n\u001b[1;32m---> 76\u001b[0m     states_use, _ \u001b[38;5;241m=\u001b[39m \u001b[38;5;28;43mself\u001b[39;49m\u001b[38;5;241;43m.\u001b[39;49m\u001b[43mcollect_states\u001b[49m\u001b[43m(\u001b[49m\u001b[43mtrain_input\u001b[49m\u001b[43m,\u001b[49m\u001b[43m \u001b[49m\u001b[43mdiscard\u001b[49m\u001b[38;5;241;43m=\u001b[39;49m\u001b[43mdiscard\u001b[49m\u001b[43m)\u001b[49m\n\u001b[0;32m     77\u001b[0m     targets_use \u001b[38;5;241m=\u001b[39m train_target[discard:]\n\u001b[0;32m     78\u001b[0m     \u001b[38;5;66;03m# X_aug = np.hstack([states_use, np.ones((states_use.shape[0],1))])\u001b[39;00m\n\u001b[0;32m     79\u001b[0m \n\u001b[0;32m     80\u001b[0m     \u001b[38;5;66;03m# polynomial readout\u001b[39;00m\n",
      "File \u001b[1;32mc:\\Users\\shrey\\Downloads\\Neuro-Reservoirs\\models\\ESN.py:71\u001b[0m, in \u001b[0;36mESN3D.collect_states\u001b[1;34m(self, inputs, discard)\u001b[0m\n\u001b[0;32m     69\u001b[0m \u001b[38;5;28;01mfor\u001b[39;00m val \u001b[38;5;129;01min\u001b[39;00m inputs:\n\u001b[0;32m     70\u001b[0m     \u001b[38;5;28mself\u001b[39m\u001b[38;5;241m.\u001b[39m_update(val)\n\u001b[1;32m---> 71\u001b[0m     states\u001b[38;5;241m.\u001b[39mappend(\u001b[38;5;28;43mself\u001b[39;49m\u001b[38;5;241;43m.\u001b[39;49m\u001b[43mx\u001b[49m\u001b[38;5;241;43m.\u001b[39;49m\u001b[43mcopy\u001b[49m\u001b[43m(\u001b[49m\u001b[43m)\u001b[49m)\n\u001b[0;32m     72\u001b[0m states \u001b[38;5;241m=\u001b[39m np\u001b[38;5;241m.\u001b[39marray(states)\n\u001b[0;32m     73\u001b[0m \u001b[38;5;28;01mreturn\u001b[39;00m states[discard:], states[:discard]\n",
      "\u001b[1;31mKeyboardInterrupt\u001b[0m: "
     ]
    }
   ],
   "source": [
    "top2_esn     = run_grid_search_top2(ESN3D, param_grid_common, \"Dense ESN\")\n",
    "top2_cr      = run_grid_search_top2(CR3D, param_grid_common, \"Cycle Res\")\n",
    "top2_sparse  = run_grid_search_top2(SparseESN3D, param_grid_sparse, \"Sparse ESN\")"
   ]
  }
 ],
 "metadata": {
  "kernelspec": {
   "display_name": "Python 3",
   "language": "python",
   "name": "python3"
  },
  "language_info": {
   "codemirror_mode": {
    "name": "ipython",
    "version": 3
   },
   "file_extension": ".py",
   "mimetype": "text/x-python",
   "name": "python",
   "nbconvert_exporter": "python",
   "pygments_lexer": "ipython3",
   "version": "3.12.0"
  }
 },
 "nbformat": 4,
 "nbformat_minor": 5
}
