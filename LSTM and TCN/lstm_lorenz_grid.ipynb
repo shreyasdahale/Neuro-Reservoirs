{
 "cells": [
  {
   "cell_type": "code",
   "execution_count": 1,
   "metadata": {
    "_cell_guid": "b1076dfc-b9ad-4769-8c92-a6c4dae69d19",
    "_uuid": "8f2839f25d086af736a60e9eeb907d3b93b6e0e5",
    "execution": {
     "iopub.execute_input": "2025-06-16T17:15:09.451931Z",
     "iopub.status.busy": "2025-06-16T17:15:09.451715Z",
     "iopub.status.idle": "2025-06-16T17:15:18.480745Z",
     "shell.execute_reply": "2025-06-16T17:15:18.479877Z",
     "shell.execute_reply.started": "2025-06-16T17:15:09.451911Z"
    },
    "trusted": true
   },
   "outputs": [],
   "source": [
    "import numpy as np\n",
    "import torch\n",
    "import torch.nn as nn\n",
    "from torch.utils.data import DataLoader, Dataset\n",
    "from sklearn.preprocessing import MinMaxScaler\n",
    "from scipy.integrate import odeint\n",
    "import random"
   ]
  },
  {
   "cell_type": "code",
   "execution_count": 2,
   "metadata": {
    "execution": {
     "iopub.execute_input": "2025-06-16T17:15:18.483155Z",
     "iopub.status.busy": "2025-06-16T17:15:18.482821Z",
     "iopub.status.idle": "2025-06-16T17:15:18.489060Z",
     "shell.execute_reply": "2025-06-16T17:15:18.488347Z",
     "shell.execute_reply.started": "2025-06-16T17:15:18.483134Z"
    },
    "trusted": true
   },
   "outputs": [],
   "source": [
    "def lorenz_deriv(state, t, sigma=10.0, rho=28.0, beta=8.0/3.0):\n",
    "    x, y, z = state\n",
    "    dxdt = sigma * (y - x)\n",
    "    dydt = x*(rho - z) - y\n",
    "    dzdt = x*y - beta*z\n",
    "    return [dxdt, dydt, dzdt]\n",
    "\n",
    "def generate_lorenz_data(initial_state=[1.0, 1.0, 1.0], tmax=250, dt=0.02,\n",
    "                         sigma=10.0, rho=28.0, beta=8.0/3.0):\n",
    "    num_steps = int(tmax / dt) + 1\n",
    "    t_vals = np.linspace(0, tmax, num_steps)\n",
    "    sol = odeint(lorenz_deriv, initial_state, t_vals, args=(sigma, rho, beta))\n",
    "    return t_vals, sol"
   ]
  },
  {
   "cell_type": "code",
   "execution_count": 3,
   "metadata": {
    "execution": {
     "iopub.execute_input": "2025-06-16T17:15:18.490672Z",
     "iopub.status.busy": "2025-06-16T17:15:18.489892Z",
     "iopub.status.idle": "2025-06-16T17:15:18.514965Z",
     "shell.execute_reply": "2025-06-16T17:15:18.514206Z",
     "shell.execute_reply.started": "2025-06-16T17:15:18.490645Z"
    },
    "trusted": true
   },
   "outputs": [],
   "source": [
    "class SequenceDataset(Dataset):\n",
    "    def __init__(self, data, input_len=50, pred_len=1000):\n",
    "        self.input_len = input_len\n",
    "        self.pred_len = pred_len\n",
    "        self.data = data\n",
    "        self.X, self.Y = self.create_sequences()\n",
    "\n",
    "    def create_sequences(self):\n",
    "        X, Y = [], []\n",
    "        total_len = self.input_len + self.pred_len\n",
    "        for i in range(len(self.data) - total_len):\n",
    "            X.append(self.data[i:i+self.input_len])\n",
    "            Y.append(self.data[i+self.input_len:i+self.input_len+self.pred_len])\n",
    "        return torch.tensor(np.array(X), dtype=torch.float32), torch.tensor(np.array(Y), dtype=torch.float32)\n",
    "\n",
    "    def __len__(self):\n",
    "        return len(self.X)\n",
    "\n",
    "    def __getitem__(self, idx):\n",
    "        return self.X[idx], self.Y[idx]"
   ]
  },
  {
   "cell_type": "code",
   "execution_count": 4,
   "metadata": {
    "execution": {
     "iopub.execute_input": "2025-06-16T17:15:18.516248Z",
     "iopub.status.busy": "2025-06-16T17:15:18.515919Z",
     "iopub.status.idle": "2025-06-16T17:15:18.532352Z",
     "shell.execute_reply": "2025-06-16T17:15:18.531482Z",
     "shell.execute_reply.started": "2025-06-16T17:15:18.516218Z"
    },
    "trusted": true
   },
   "outputs": [],
   "source": [
    "class LSTMForecaster(nn.Module):\n",
    "    def __init__(self, input_size=3, hidden_size=300, num_layers=1, dropout=0.0):\n",
    "        super(LSTMForecaster, self).__init__()\n",
    "        self.lstm = nn.LSTM(input_size, hidden_size, num_layers, dropout=dropout, batch_first=True)\n",
    "        self.linear = nn.Linear(hidden_size, input_size)\n",
    "\n",
    "    def forward(self, x, steps):\n",
    "        h, _ = self.lstm(x)\n",
    "        h_last = h[:, -1:]\n",
    "        preds = []\n",
    "        out = self.linear(h_last)\n",
    "        preds.append(out)\n",
    "\n",
    "        for _ in range(steps - 1):\n",
    "            h_next, _ = self.lstm(out)\n",
    "            out = self.linear(h_next)\n",
    "            preds.append(out)\n",
    "\n",
    "        return torch.cat(preds, dim=1)\n"
   ]
  },
  {
   "cell_type": "code",
   "execution_count": 5,
   "metadata": {
    "execution": {
     "iopub.execute_input": "2025-06-16T17:15:18.533757Z",
     "iopub.status.busy": "2025-06-16T17:15:18.533283Z",
     "iopub.status.idle": "2025-06-16T17:15:18.574064Z",
     "shell.execute_reply": "2025-06-16T17:15:18.573221Z",
     "shell.execute_reply.started": "2025-06-16T17:15:18.533738Z"
    },
    "trusted": true
   },
   "outputs": [],
   "source": [
    "def nrmse(y_true, y_pred):\n",
    "    return np.sqrt(np.mean((y_true - y_pred)**2)) / (np.max(y_true) - np.min(y_true))\n",
    "\n",
    "# Train function\n",
    "def train_model(model, train_loader, epochs=10, lr=1e-3):\n",
    "    model.train()\n",
    "    optimizer = torch.optim.Adam(model.parameters(), lr=lr)\n",
    "    loss_fn = nn.MSELoss()\n",
    "    for epoch in range(epochs):\n",
    "        for x_batch, y_batch in train_loader:\n",
    "            optimizer.zero_grad()\n",
    "            preds = model(x_batch, y_batch.shape[1])\n",
    "            loss = loss_fn(preds, y_batch)\n",
    "            loss.backward()\n",
    "            optimizer.step()"
   ]
  },
  {
   "cell_type": "code",
   "execution_count": 6,
   "metadata": {
    "execution": {
     "iopub.execute_input": "2025-06-16T17:15:18.575449Z",
     "iopub.status.busy": "2025-06-16T17:15:18.575122Z",
     "iopub.status.idle": "2025-06-16T17:15:18.593647Z",
     "shell.execute_reply": "2025-06-16T17:15:18.592830Z",
     "shell.execute_reply.started": "2025-06-16T17:15:18.575423Z"
    },
    "trusted": true
   },
   "outputs": [],
   "source": [
    "# Evaluation at different horizons\n",
    "def evaluate_model(model, test_loader, horizons):\n",
    "    model.eval()\n",
    "    errors = {h: [] for h in horizons}\n",
    "    with torch.no_grad():\n",
    "        for x_batch, y_batch in test_loader:\n",
    "            pred = model(x_batch, max(horizons))\n",
    "            for h in horizons:\n",
    "                true = y_batch[:, :h].numpy()\n",
    "                est = pred[:, :h].numpy()\n",
    "                for t, p in zip(true, est):\n",
    "                    errors[h].append(nrmse(t, p))\n",
    "    return {h: (np.mean(errors[h]), np.std(errors[h])) for h in horizons}"
   ]
  },
  {
   "cell_type": "code",
   "execution_count": 7,
   "metadata": {
    "trusted": true
   },
   "outputs": [],
   "source": [
    "from itertools import product\n",
    "\n",
    "def grid_search_configs():\n",
    "    hidden_sizes = [300]\n",
    "    lrs = [1e-2, 1e-3]\n",
    "    batch_sizes = [32, 64]\n",
    "    num_layers_list = [1, 2]\n",
    "    dropouts = [0.0, 0.2]\n",
    "    return list(product(hidden_sizes, lrs, batch_sizes, num_layers_list, dropouts))\n",
    "\n",
    "def run_grid_search():\n",
    "    results = {}\n",
    "    print_horizons = list(range(200, 1001, 200))\n",
    "    all_horizons = list(range(10, 1001, 10))\n",
    "\n",
    "    for split_ratio in [0.75, 0.8]:\n",
    "        for (hidden_size, lr, batch_size, num_layers, dropout) in grid_search_configs():\n",
    "            config_key = f\"Split_{split_ratio}_H{hidden_size}_LR{lr}_B{batch_size}_L{num_layers}_D{dropout}\"\n",
    "            results[config_key] = {h: [] for h in print_horizons}\n",
    "\n",
    "            for seed in range(10):\n",
    "                np.random.seed(seed)\n",
    "                torch.manual_seed(seed)\n",
    "                random.seed(seed)\n",
    "\n",
    "                for initial_state in [[1.0, 1.0, 1.0], [1.0, 2.0, 3.0], [2.0, 1.5, 4.0]]:\n",
    "                    data_raw = generate_lorenz_data(initial_state=initial_state)[1]\n",
    "                    scaler = MinMaxScaler()\n",
    "                    data_scaled = scaler.fit_transform(data_raw)\n",
    "\n",
    "                    split_idx = int(len(data_scaled) * split_ratio)\n",
    "                    train_data = data_scaled[:split_idx]\n",
    "                    test_data = data_scaled[split_idx - 1050:]  # to ensure long enough sequence\n",
    "\n",
    "                    train_dataset = SequenceDataset(train_data)\n",
    "                    test_dataset = SequenceDataset(test_data)\n",
    "\n",
    "                    train_loader = DataLoader(train_dataset, batch_size=batch_size, shuffle=True)\n",
    "                    test_loader = DataLoader(test_dataset, batch_size=batch_size)\n",
    "\n",
    "                    model = LSTMForecaster(hidden_size=hidden_size, num_layers=num_layers, dropout=dropout)\n",
    "                    train_model(model, train_loader, epochs=10, lr=lr)\n",
    "\n",
    "                    metrics = evaluate_model(model, test_loader, all_horizons)\n",
    "\n",
    "                    for h in print_horizons:\n",
    "                        results[config_key][h].append(metrics[h][0])  # mean NRMSE at horizon h\n",
    "\n",
    "            # Mean ± Std Dev across seeds and initial states\n",
    "            for h in print_horizons:\n",
    "                vals = results[config_key][h]\n",
    "                mean = np.mean(vals)\n",
    "                std = np.std(vals)\n",
    "                results[config_key][h] = f\"{mean:.4f} ± {std:.4f}\"\n",
    "\n",
    "            print(f\"✅ Done: {config_key}\")\n",
    "\n",
    "    return results\n"
   ]
  },
  {
   "cell_type": "code",
   "execution_count": 8,
   "metadata": {
    "execution": {
     "iopub.execute_input": "2025-06-16T17:15:18.617279Z",
     "iopub.status.busy": "2025-06-16T17:15:18.616930Z",
     "iopub.status.idle": "2025-06-16T17:15:19.078391Z",
     "shell.execute_reply": "2025-06-16T17:15:19.077521Z",
     "shell.execute_reply.started": "2025-06-16T17:15:18.617251Z"
    },
    "trusted": true
   },
   "outputs": [],
   "source": [
    "import pandas as pd\n",
    "\n",
    "def save_results_to_csv(results_dict, filename=\"grid_results.csv\"):\n",
    "    rows = []\n",
    "    for config, horizon_dict in results_dict.items():\n",
    "        for h, val in horizon_dict.items():\n",
    "            mean_str, std_str = val.split(\" ± \")\n",
    "            rows.append({\n",
    "                \"Config\": config,\n",
    "                \"Horizon\": h,\n",
    "                \"NRMSE_Mean\": float(mean_str),\n",
    "                \"NRMSE_Std\": float(std_str)\n",
    "            })\n",
    "    df = pd.DataFrame(rows)\n",
    "    df.to_csv(filename, index=False)\n",
    "    print(f\"Saved results to {filename}\")\n",
    "    return df\n",
    "\n",
    "\n",
    "def get_best_config(results_df, horizon=1000):\n",
    "    df_h = results_df[results_df['Horizon'] == horizon]\n",
    "    best_row = df_h.loc[df_h['NRMSE_Mean'].idxmin()]\n",
    "    print(\"\\n✅ Best Config Based on NRMSE @ Horizon\", horizon)\n",
    "    print(best_row)\n",
    "    return best_row\n"
   ]
  },
  {
   "cell_type": "code",
   "execution_count": null,
   "metadata": {
    "execution": {
     "iopub.execute_input": "2025-06-16T17:15:19.079672Z",
     "iopub.status.busy": "2025-06-16T17:15:19.079313Z"
    },
    "trusted": true
   },
   "outputs": [],
   "source": [
    "results = run_grid_search()\n",
    "df = save_results_to_csv(results, \"lstm_lorenz_results.csv\")\n",
    "best = get_best_config(df)"
   ]
  }
 ],
 "metadata": {
  "kaggle": {
   "accelerator": "nvidiaTeslaT4",
   "dataSources": [],
   "dockerImageVersionId": 31041,
   "isGpuEnabled": true,
   "isInternetEnabled": true,
   "language": "python",
   "sourceType": "notebook"
  },
  "kernelspec": {
   "display_name": "Python 3",
   "language": "python",
   "name": "python3"
  },
  "language_info": {
   "codemirror_mode": {
    "name": "ipython",
    "version": 3
   },
   "file_extension": ".py",
   "mimetype": "text/x-python",
   "name": "python",
   "nbconvert_exporter": "python",
   "pygments_lexer": "ipython3",
   "version": "3.13.3"
  }
 },
 "nbformat": 4,
 "nbformat_minor": 4
}
