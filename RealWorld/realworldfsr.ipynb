{
 "cells": [
  {
   "cell_type": "markdown",
   "id": "f2a722d1",
   "metadata": {},
   "source": [
    "# Libraries"
   ]
  },
  {
   "cell_type": "code",
   "execution_count": 1,
   "id": "e605f985",
   "metadata": {
    "execution": {
     "iopub.execute_input": "2025-07-02T16:34:58.022035Z",
     "iopub.status.busy": "2025-07-02T16:34:58.021518Z",
     "iopub.status.idle": "2025-07-02T16:34:58.030121Z",
     "shell.execute_reply": "2025-07-02T16:34:58.028861Z",
     "shell.execute_reply.started": "2025-07-02T16:34:58.022001Z"
    },
    "trusted": true
   },
   "outputs": [],
   "source": [
    "import numpy as np\n",
    "import matplotlib.pyplot as plt\n",
    "from scipy.integrate import odeint\n",
    "from sklearn.linear_model import Ridge\n",
    "from matplotlib.colors import Normalize\n",
    "import networkx as nx\n",
    "import itertools\n",
    "from tqdm import tqdm\n",
    "from scipy.signal import welch\n",
    "import matplotlib.cm as cm\n",
    "import seaborn as sns\n",
    "from collections import defaultdict\n",
    "from sklearn.decomposition import PCA\n",
    "import json"
   ]
  },
  {
   "cell_type": "markdown",
   "id": "c6ac8933",
   "metadata": {},
   "source": [
    "# Baselines"
   ]
  },
  {
   "cell_type": "code",
   "execution_count": 2,
   "id": "bf80a9ca",
   "metadata": {
    "execution": {
     "iopub.execute_input": "2025-07-02T16:34:58.032323Z",
     "iopub.status.busy": "2025-07-02T16:34:58.031921Z",
     "iopub.status.idle": "2025-07-02T16:34:58.054070Z",
     "shell.execute_reply": "2025-07-02T16:34:58.053023Z",
     "shell.execute_reply.started": "2025-07-02T16:34:58.032296Z"
    },
    "trusted": true
   },
   "outputs": [],
   "source": [
    "def scale_spectral_radius(W, target_radius=0.95):\n",
    "    \"\"\"\n",
    "    Scales a matrix W so that its largest eigenvalue magnitude = target_radius.\n",
    "    \"\"\"\n",
    "    eigvals = np.linalg.eigvals(W)\n",
    "    radius = np.max(np.abs(eigvals))\n",
    "    if radius == 0:\n",
    "        return W\n",
    "    return (W / radius) * target_radius\n",
    "\n",
    "def augment_state_with_squares(x):\n",
    "    \"\"\"\n",
    "    Given state vector x in R^N, return [ x, x^2, 1 ] in R^(2N+1).\n",
    "    We'll use this for both training and prediction.\n",
    "    \"\"\"\n",
    "    x_sq = x**2\n",
    "    return np.concatenate([x, x_sq, [1.0]])  # shape: 2N+1"
   ]
  },
  {
   "cell_type": "markdown",
   "id": "6f4741c6",
   "metadata": {},
   "source": [
    "# FSR"
   ]
  },
  {
   "cell_type": "code",
   "execution_count": 3,
   "id": "817c595b",
   "metadata": {
    "execution": {
     "iopub.execute_input": "2025-07-02T16:34:58.055808Z",
     "iopub.status.busy": "2025-07-02T16:34:58.055399Z",
     "iopub.status.idle": "2025-07-02T16:34:58.088958Z",
     "shell.execute_reply": "2025-07-02T16:34:58.087796Z",
     "shell.execute_reply.started": "2025-07-02T16:34:58.055776Z"
    },
    "trusted": true
   },
   "outputs": [],
   "source": [
    "def sigmoid(z: np.ndarray, /) -> np.ndarray:\n",
    "    \"\"\"Numerically-stable logistic σ : ℝ → (0, 1).\"\"\"\n",
    "    out = np.empty_like(z, dtype=np.float32)\n",
    "    np.subtract(0.0, z, out)            # out = −z   (no new allocation)\n",
    "    np.exp(out, out)                    # out = e^(−z)\n",
    "    out += 1.0                          # 1 + e^(−z)\n",
    "    np.reciprocal(out, out)             # 1 / (1 + e^(−z))\n",
    "    return out\n",
    "\n",
    "\n",
    "def _sample_frequencies(m: int, mode: str = \"log\") -> np.ndarray:\n",
    "    \"\"\"\n",
    "    Produce m distinct rotation angles θ_i ∈ (0, π).\n",
    "\n",
    "    * 'log'  : log-uniform in [10⁰·⁰, 10⁰·⁹] Hz then mapped to θ = 2πfΔt\n",
    "    * 'lin'  : uniform in (0, π)\n",
    "    * 'gold' : golden-ratio spacing (deterministic)\n",
    "    \"\"\"\n",
    "    if mode == \"log\":\n",
    "        # log-spread over ~1 decade, then map to (0, π)\n",
    "        f = 10 ** np.linspace(0.0, 0.9, m, dtype=np.float32)\n",
    "        f /= f.max()\n",
    "        return np.pi * f\n",
    "    if mode == \"lin\":\n",
    "        return np.random.default_rng().uniform(0.01, np.pi - 0.01, size=m)\n",
    "    if mode == \"gold\":\n",
    "        return (np.mod(np.arange(1, m + 1) * 0.61803398875, 1.0) * (np.pi - 0.02) + 0.01)\n",
    "    raise ValueError(\"mode must be {'log','lin','gold'}\")\n",
    "\n",
    "def augment_state_with_squares(x):\n",
    "    \"\"\"\n",
    "    Given state vector x in R^N, return [ x, x^2, 1 ] in R^(2N+1).\n",
    "    We'll use this for both training and prediction.\n",
    "    \"\"\"\n",
    "    x_sq = x**2\n",
    "    return np.concatenate([x, x_sq, [1.0]])  # shape: 2N+1\n",
    "\n",
    "\n",
    "# ---------------------------------------------------------------------\n",
    "# Resonator reservoir class\n",
    "# ---------------------------------------------------------------------\n",
    "class FSR3D:\n",
    "    \"\"\"\n",
    "    Frequency-Selective Resonator Echo-State Network.\n",
    "\n",
    "    • N even ⇒ m = N/2 damped 2-D rotations (planar oscillators)\n",
    "    • Exact spectral control: eigenvalues r·e^{±iθ_i}\n",
    "    • Sparse symmetric nearest-neighbour coupling ε·C\n",
    "    • Optional static gain profile g_k  (sin→σ)  for heterogeneity\n",
    "    • Optional quadratic + quadrature feature map in the read-out\n",
    "    \"\"\"\n",
    "\n",
    "    # -----------------------------------------------------------------\n",
    "    def __init__(\n",
    "        self,\n",
    "        reservoir_size: int = 400,      # N (must be even)\n",
    "        frequency_mode: str = \"log\",    # how to draw θ_i\n",
    "        r_damp: float = 0.95,           # attenuation per step\n",
    "        eps_couple: float = 0.05,       # ε   cross-pair mixing strength\n",
    "        input_scale: float = 0.5,\n",
    "        leak_rate: float = 1.0,         # α\n",
    "        ridge_alpha: float = 1e-6,\n",
    "        use_gain: bool = True,\n",
    "        gain_beta: float = 2.0,\n",
    "        gain_sigmoid: bool = True,\n",
    "        use_quadratic_feat: bool = True,\n",
    "        seed: int = 42,\n",
    "    ):\n",
    "        if reservoir_size % 2:\n",
    "            raise ValueError(\"reservoir_size must be even\")\n",
    "        self.N = reservoir_size\n",
    "        self.m = reservoir_size // 2\n",
    "        self.r = float(r_damp)\n",
    "        self.eps = float(eps_couple)\n",
    "        self.input_scale = input_scale\n",
    "        self.alpha = leak_rate\n",
    "        self.ridge_alpha = ridge_alpha\n",
    "        self.use_gain = use_gain\n",
    "        self.beta = gain_beta\n",
    "        self.sig_gain = gain_sigmoid\n",
    "        self.use_quad = use_quadratic_feat\n",
    "        self.seed = seed\n",
    "        self.freq_mode = frequency_mode\n",
    "\n",
    "        # matrices and state\n",
    "        self.W_res: np.ndarray | None = None\n",
    "        self.W_in: np.ndarray | None = None\n",
    "        self.W_out: np.ndarray | None = None\n",
    "        self.g: np.ndarray | None = None\n",
    "        self.x = np.zeros(self.N, dtype=np.float32)\n",
    "\n",
    "        # one-off construction\n",
    "        self._build_reservoir()\n",
    "        self._build_gain()\n",
    "\n",
    "    # -----------------------------------------------------------------\n",
    "    # internal builders\n",
    "    # -----------------------------------------------------------------\n",
    "    def _build_reservoir(self):\n",
    "        \"\"\"\n",
    "        Build   W_res = G · (R ⊕ ... ⊕ R  +  εC)   without the gain\n",
    "        (gain applied separately for cheaper runtime multiplication).\n",
    "        \"\"\"\n",
    "        m, r, eps = self.m, self.r, self.eps\n",
    "        θ = _sample_frequencies(m, mode=self.freq_mode)\n",
    "\n",
    "        # ----- block-diagonal damped rotations -----------------------\n",
    "        R_blocks = np.zeros((self.N, self.N), dtype=np.float32)\n",
    "        for i, theta in enumerate(θ):\n",
    "            c, s = np.cos(theta) * r, np.sin(theta) * r\n",
    "            i0 = 2 * i\n",
    "            R_blocks[i0, i0] = c\n",
    "            R_blocks[i0, i0 + 1] = -s\n",
    "            R_blocks[i0 + 1, i0] = s\n",
    "            R_blocks[i0 + 1, i0 + 1] = c\n",
    "\n",
    "        # ----- sparse symmetric coupling -----------------------------\n",
    "        rng = np.random.default_rng(self.seed)\n",
    "        C = np.zeros_like(R_blocks)\n",
    "        for i in range(m - 1):                        # nearest-neighbour chain\n",
    "            b = rng.standard_normal()\n",
    "            B = np.array([[b, 0.0], [0.0, b]], dtype=np.float32)\n",
    "            a0, a1 = 2 * i, 2 * (i + 1)\n",
    "            # upper block\n",
    "            C[a0 : a0 + 2, a1 : a1 + 2] = B\n",
    "            # symmetric lower block\n",
    "            C[a1 : a1 + 2, a0 : a0 + 2] = B.T\n",
    "\n",
    "        self.W_res = R_blocks + eps * C\n",
    "\n",
    "    def _build_gain(self):\n",
    "        \"\"\"Static per-neuron gain g_k.\"\"\"\n",
    "        if not self.use_gain:\n",
    "            self.g = np.ones(self.N, dtype=np.float32)\n",
    "            return\n",
    "        k_idx = np.arange(self.N, dtype=np.float32)\n",
    "        raw = self.beta * np.sin(2.0 * np.pi * k_idx / self.N)\n",
    "        self.g = sigmoid(raw) if self.sig_gain else raw.astype(np.float32)\n",
    "\n",
    "    # -----------------------------------------------------------------\n",
    "    # reservoir core\n",
    "    # -----------------------------------------------------------------\n",
    "    def _update(self, u_t: np.ndarray):\n",
    "        pre = self.W_res @ self.x + self.W_in @ u_t\n",
    "        if self.use_gain:\n",
    "            pre *= self.g\n",
    "            # pre = self.g*self.W_res @ self.x + self.W_in @ u_t\n",
    "        \n",
    "        else:\n",
    "            pre = self.W_res @ self.x + self.W_in @ u_t\n",
    "\n",
    "        new_x = np.tanh(pre)\n",
    "        self.x = (1.0 - self.alpha) * self.x + self.alpha * new_x\n",
    "\n",
    "    def reset_state(self):\n",
    "        self.x.fill(0.0)\n",
    "\n",
    "    # -----------------------------------------------------------------\n",
    "    # read-out training\n",
    "    # -----------------------------------------------------------------\n",
    "    def fit_readout(self, inputs: np.ndarray, targets: np.ndarray, discard: int = 100):\n",
    "        \"\"\"\n",
    "        Teacher-forcing pass to learn W_out via ridge regression.\n",
    "        * inputs  shape [T, d_in]\n",
    "        * targets shape [T, d_out]\n",
    "        \"\"\"\n",
    "        T, d_in = inputs.shape\n",
    "        if T <= discard + 1:\n",
    "            raise ValueError(\"Not enough data\")\n",
    "\n",
    "        # random input weights\n",
    "        rng = np.random.default_rng(self.seed)\n",
    "        self.W_in = (\n",
    "            rng.uniform(-1.0, 1.0, size=(self.N, d_in)) * self.input_scale\n",
    "        ).astype(np.float32)\n",
    "\n",
    "        # collect echoed states\n",
    "        self.reset_state()\n",
    "        states = []\n",
    "        for t in range(T):\n",
    "            self._update(inputs[t])\n",
    "            if t >= discard:\n",
    "                states.append(self.x.copy())\n",
    "\n",
    "        X = np.asarray(states, dtype=np.float32)            # [T−d, N]\n",
    "        Y = targets[discard:]                               # align\n",
    "\n",
    "        # feature map\n",
    "        if self.use_quad:\n",
    "            X_list = []\n",
    "            for s in X:\n",
    "                X_list.append(augment_state_with_squares(s))\n",
    "            feats = np.array(X_list, dtype=np.float32)\n",
    "\n",
    "        else:\n",
    "            feats = X\n",
    "\n",
    "        reg = Ridge(alpha=self.ridge_alpha, fit_intercept=False)\n",
    "        reg.fit(feats, Y)\n",
    "        self.W_out = reg.coef_.astype(np.float32)\n",
    "\n",
    "    # -----------------------------------------------------------------\n",
    "    # autoregressive forecast\n",
    "    # -----------------------------------------------------------------\n",
    "    def predict_autoregressive(self, init_u: np.ndarray, n_steps: int) -> np.ndarray:\n",
    "        if self.W_out is None:\n",
    "            raise RuntimeError(\"Call fit_readout() before prediction\")\n",
    "\n",
    "        d_in = init_u.shape[0]\n",
    "        preds = np.empty((n_steps, self.W_out.shape[0]), dtype=np.float32)\n",
    "\n",
    "        #self.reset_state()\n",
    "        u_t = init_u.astype(np.float32).copy()\n",
    "\n",
    "        for t in range(n_steps):\n",
    "            self._update(u_t)\n",
    "\n",
    "            if self.use_quad:\n",
    "                feat_vec = augment_state_with_squares(self.x)\n",
    "            else:\n",
    "                feat_vec = self.x\n",
    "\n",
    "            y_t = (self.W_out @ feat_vec).astype(np.float32)\n",
    "            preds[t] = y_t\n",
    "            u_t = y_t[:d_in]\n",
    "\n",
    "        return preds\n",
    "    \n",
    "    def predict_open_loop(self, inputs: np.ndarray):\n",
    "        preds = []\n",
    "        for true_input in inputs:\n",
    "            self._update(true_input)\n",
    "            if self.use_quad:\n",
    "                feat_vec = augment_state_with_squares(self.x)\n",
    "            else:\n",
    "                feat_vec = self.x\n",
    "            out = (self.W_out @ feat_vec).astype(np.float32)\n",
    "            preds.append(out)\n",
    "        return preds\n"
   ]
  },
  {
   "cell_type": "markdown",
   "id": "587f6038",
   "metadata": {},
   "source": [
    "### NRMSE"
   ]
  },
  {
   "cell_type": "code",
   "execution_count": 4,
   "id": "b55e0383",
   "metadata": {
    "execution": {
     "iopub.execute_input": "2025-07-02T16:34:58.145895Z",
     "iopub.status.busy": "2025-07-02T16:34:58.144901Z",
     "iopub.status.idle": "2025-07-02T16:34:58.154875Z",
     "shell.execute_reply": "2025-07-02T16:34:58.152921Z",
     "shell.execute_reply.started": "2025-07-02T16:34:58.145839Z"
    },
    "trusted": true
   },
   "outputs": [],
   "source": [
    "def evaluate_nrmse(all_preds, test_target, horizons):\n",
    "    \"\"\"\n",
    "    Evaluate model performance over multiple prediction horizons\n",
    "    for teacher-forced single-step forecasting or autoregressive rollout.\n",
    "    \"\"\"\n",
    "    horizon_nrmse = {}\n",
    "    for horizon in horizons:\n",
    "        preds = all_preds[:horizon]\n",
    "        targets = test_target[:horizon]\n",
    "        squared_errors = (preds - targets) ** 2\n",
    "        variance = np.var(targets, axis=0)\n",
    "        variance[variance == 0] = 1e-8  # avoid divide-by-zero\n",
    "        nrmse = np.sqrt(np.sum(squared_errors) / (horizon * np.sum(variance)))\n",
    "        horizon_nrmse[horizon] = nrmse\n",
    "    return horizon_nrmse"
   ]
  },
  {
   "cell_type": "markdown",
   "id": "feb9a21c",
   "metadata": {},
   "source": [
    "### VPT"
   ]
  },
  {
   "cell_type": "code",
   "execution_count": 5,
   "id": "193a03f4",
   "metadata": {
    "execution": {
     "iopub.execute_input": "2025-07-02T16:34:58.157353Z",
     "iopub.status.busy": "2025-07-02T16:34:58.156994Z",
     "iopub.status.idle": "2025-07-02T16:34:58.184141Z",
     "shell.execute_reply": "2025-07-02T16:34:58.182816Z",
     "shell.execute_reply.started": "2025-07-02T16:34:58.157324Z"
    },
    "trusted": true
   },
   "outputs": [],
   "source": [
    "def compute_valid_prediction_time(y_true, y_pred, test_time, lyapunov_time, threshold=0.4):\n",
    "    y_mean = np.mean(y_true, axis=0)\n",
    "    y_centered = y_true - y_mean\n",
    "    denom = np.mean(np.sum(y_centered**2, axis=1))\n",
    "\n",
    "    error = y_true - y_pred\n",
    "    squared_error = np.sum(error**2, axis=1)\n",
    "    delta = squared_error / denom\n",
    "\n",
    "    idx_exceed = np.where(delta > threshold)[0]\n",
    "    if len(idx_exceed) == 0:\n",
    "        # never exceeds threshold => set T_VPT to the final time\n",
    "        T_VPT = test_time[-1]\n",
    "    else:\n",
    "        T_VPT = test_time[idx_exceed[0]]\n",
    "\n",
    "    ratio = T_VPT / lyapunov_time\n",
    "\n",
    "    return T_VPT, ratio"
   ]
  },
  {
   "cell_type": "markdown",
   "id": "5e4e8e78",
   "metadata": {},
   "source": [
    "### ADev"
   ]
  },
  {
   "cell_type": "code",
   "execution_count": 6,
   "id": "38f84534",
   "metadata": {
    "execution": {
     "iopub.execute_input": "2025-07-02T16:34:58.185963Z",
     "iopub.status.busy": "2025-07-02T16:34:58.185534Z",
     "iopub.status.idle": "2025-07-02T16:34:58.201338Z",
     "shell.execute_reply": "2025-07-02T16:34:58.200335Z",
     "shell.execute_reply.started": "2025-07-02T16:34:58.185930Z"
    },
    "trusted": true
   },
   "outputs": [],
   "source": [
    "def compute_attractor_deviation(predictions, targets, cube_size=(0.1, 0.1, 0.1)):\n",
    "    \"\"\"\n",
    "    Compute the Attractor Deviation (ADev) metric.\n",
    "\n",
    "    Parameters:\n",
    "        predictions (numpy.ndarray): Predicted trajectories of shape (n, 3).\n",
    "        targets (numpy.ndarray): True trajectories of shape (n, 3).\n",
    "        cube_size (tuple): Dimensions of the cube (dx, dy, dz).\n",
    "\n",
    "    Returns:\n",
    "        float: The ADev metric.\n",
    "    \"\"\"\n",
    "    # Define the cube grid based on the range of the data and cube size\n",
    "    min_coords = np.min(np.vstack((predictions, targets)), axis=0)\n",
    "    max_coords = np.max(np.vstack((predictions, targets)), axis=0)\n",
    "\n",
    "    # Create a grid of cubes\n",
    "    grid_shape = ((max_coords - min_coords) / cube_size).astype(int) + 1\n",
    "\n",
    "    # Initialize the cube occupancy arrays\n",
    "    pred_cubes = np.zeros(grid_shape, dtype=int)\n",
    "    target_cubes = np.zeros(grid_shape, dtype=int)\n",
    "\n",
    "    # Map trajectories to cubes\n",
    "    pred_indices = ((predictions - min_coords) / cube_size).astype(int)\n",
    "    target_indices = ((targets - min_coords) / cube_size).astype(int)\n",
    "\n",
    "    # Mark cubes visited by predictions and targets\n",
    "    for idx in pred_indices:\n",
    "        pred_cubes[tuple(idx)] = 1\n",
    "    for idx in target_indices:\n",
    "        target_cubes[tuple(idx)] = 1\n",
    "\n",
    "    # Compute the ADev metric\n",
    "    adev = np.sum(np.abs(pred_cubes - target_cubes))\n",
    "    return adev"
   ]
  },
  {
   "cell_type": "markdown",
   "id": "825c2de7",
   "metadata": {},
   "source": [
    "### PSD"
   ]
  },
  {
   "cell_type": "code",
   "execution_count": 7,
   "id": "402a5c32",
   "metadata": {
    "execution": {
     "iopub.execute_input": "2025-07-02T16:34:58.202807Z",
     "iopub.status.busy": "2025-07-02T16:34:58.202436Z",
     "iopub.status.idle": "2025-07-02T16:34:58.229086Z",
     "shell.execute_reply": "2025-07-02T16:34:58.228099Z",
     "shell.execute_reply.started": "2025-07-02T16:34:58.202780Z"
    },
    "trusted": true
   },
   "outputs": [],
   "source": [
    "def compute_psd(y, dt=0.01):\n",
    "    z = y[:, 2]  # Extract Z-component\n",
    "    \n",
    "    # Compute PSD using Welch’s method\n",
    "    freqs, psd = welch(z, fs=1/dt, window='hamming', nperseg=len(z))  # Using Hamming window\n",
    "    \n",
    "    return freqs, psd"
   ]
  },
  {
   "cell_type": "markdown",
   "id": "d8719c3c",
   "metadata": {},
   "source": [
    "# MIT-BIH Dataset"
   ]
  },
  {
   "cell_type": "code",
   "execution_count": 8,
   "id": "49bbfe54",
   "metadata": {
    "execution": {
     "iopub.execute_input": "2025-07-02T16:34:58.232425Z",
     "iopub.status.busy": "2025-07-02T16:34:58.232127Z",
     "iopub.status.idle": "2025-07-02T16:34:58.251506Z",
     "shell.execute_reply": "2025-07-02T16:34:58.250443Z",
     "shell.execute_reply.started": "2025-07-02T16:34:58.232404Z"
    },
    "trusted": true
   },
   "outputs": [],
   "source": [
    "def create_delay_embedding(signal, embed_dim):\n",
    "    L = len(signal) - embed_dim + 1\n",
    "    emb = np.zeros((L, embed_dim))\n",
    "    for i in range(L):\n",
    "        emb[i, :] = signal[i:i+embed_dim]\n",
    "    return emb"
   ]
  },
  {
   "cell_type": "code",
   "execution_count": 9,
   "id": "09e4c277-c14d-4516-a8f5-e75b730ebdfb",
   "metadata": {
    "execution": {
     "iopub.execute_input": "2025-07-02T16:34:58.252922Z",
     "iopub.status.busy": "2025-07-02T16:34:58.252586Z",
     "iopub.status.idle": "2025-07-02T16:35:02.531353Z",
     "shell.execute_reply": "2025-07-02T16:35:02.530124Z",
     "shell.execute_reply.started": "2025-07-02T16:34:58.252898Z"
    },
    "trusted": true
   },
   "outputs": [
    {
     "name": "stdout",
     "output_type": "stream",
     "text": [
      "Requirement already satisfied: wfdb in c:\\users\\shrey\\appdata\\local\\programs\\python\\python313\\lib\\site-packages (4.3.0)\n",
      "Requirement already satisfied: aiohttp>=3.10.11 in c:\\users\\shrey\\appdata\\local\\programs\\python\\python313\\lib\\site-packages (from wfdb) (3.12.2)\n",
      "Requirement already satisfied: fsspec>=2023.10.0 in c:\\users\\shrey\\appdata\\local\\programs\\python\\python313\\lib\\site-packages (from wfdb) (2025.5.1)\n",
      "Requirement already satisfied: matplotlib>=3.2.2 in c:\\users\\shrey\\appdata\\local\\programs\\python\\python313\\lib\\site-packages (from wfdb) (3.10.3)\n",
      "Requirement already satisfied: numpy>=1.26.4 in c:\\users\\shrey\\appdata\\local\\programs\\python\\python313\\lib\\site-packages (from wfdb) (2.2.6)\n",
      "Requirement already satisfied: pandas>=2.2.3 in c:\\users\\shrey\\appdata\\local\\programs\\python\\python313\\lib\\site-packages (from wfdb) (2.2.3)\n",
      "Requirement already satisfied: requests>=2.8.1 in c:\\users\\shrey\\appdata\\local\\programs\\python\\python313\\lib\\site-packages (from wfdb) (2.32.3)\n",
      "Requirement already satisfied: scipy>=1.13.0 in c:\\users\\shrey\\appdata\\local\\programs\\python\\python313\\lib\\site-packages (from wfdb) (1.15.3)\n",
      "Requirement already satisfied: soundfile>=0.10.0 in c:\\users\\shrey\\appdata\\local\\programs\\python\\python313\\lib\\site-packages (from wfdb) (0.13.1)\n",
      "Requirement already satisfied: aiohappyeyeballs>=2.5.0 in c:\\users\\shrey\\appdata\\local\\programs\\python\\python313\\lib\\site-packages (from aiohttp>=3.10.11->wfdb) (2.6.1)\n",
      "Requirement already satisfied: aiosignal>=1.1.2 in c:\\users\\shrey\\appdata\\local\\programs\\python\\python313\\lib\\site-packages (from aiohttp>=3.10.11->wfdb) (1.3.2)\n",
      "Requirement already satisfied: attrs>=17.3.0 in c:\\users\\shrey\\appdata\\local\\programs\\python\\python313\\lib\\site-packages (from aiohttp>=3.10.11->wfdb) (25.3.0)\n",
      "Requirement already satisfied: frozenlist>=1.1.1 in c:\\users\\shrey\\appdata\\local\\programs\\python\\python313\\lib\\site-packages (from aiohttp>=3.10.11->wfdb) (1.6.0)\n",
      "Requirement already satisfied: multidict<7.0,>=4.5 in c:\\users\\shrey\\appdata\\local\\programs\\python\\python313\\lib\\site-packages (from aiohttp>=3.10.11->wfdb) (6.4.4)\n",
      "Requirement already satisfied: propcache>=0.2.0 in c:\\users\\shrey\\appdata\\local\\programs\\python\\python313\\lib\\site-packages (from aiohttp>=3.10.11->wfdb) (0.3.1)\n",
      "Requirement already satisfied: yarl<2.0,>=1.17.0 in c:\\users\\shrey\\appdata\\local\\programs\\python\\python313\\lib\\site-packages (from aiohttp>=3.10.11->wfdb) (1.20.0)\n",
      "Requirement already satisfied: idna>=2.0 in c:\\users\\shrey\\appdata\\local\\programs\\python\\python313\\lib\\site-packages (from yarl<2.0,>=1.17.0->aiohttp>=3.10.11->wfdb) (3.10)\n",
      "Requirement already satisfied: contourpy>=1.0.1 in c:\\users\\shrey\\appdata\\local\\programs\\python\\python313\\lib\\site-packages (from matplotlib>=3.2.2->wfdb) (1.3.2)\n",
      "Requirement already satisfied: cycler>=0.10 in c:\\users\\shrey\\appdata\\local\\programs\\python\\python313\\lib\\site-packages (from matplotlib>=3.2.2->wfdb) (0.12.1)\n",
      "Requirement already satisfied: fonttools>=4.22.0 in c:\\users\\shrey\\appdata\\local\\programs\\python\\python313\\lib\\site-packages (from matplotlib>=3.2.2->wfdb) (4.58.0)\n",
      "Requirement already satisfied: kiwisolver>=1.3.1 in c:\\users\\shrey\\appdata\\local\\programs\\python\\python313\\lib\\site-packages (from matplotlib>=3.2.2->wfdb) (1.4.8)\n",
      "Requirement already satisfied: packaging>=20.0 in c:\\users\\shrey\\appdata\\local\\programs\\python\\python313\\lib\\site-packages (from matplotlib>=3.2.2->wfdb) (25.0)\n",
      "Requirement already satisfied: pillow>=8 in c:\\users\\shrey\\appdata\\local\\programs\\python\\python313\\lib\\site-packages (from matplotlib>=3.2.2->wfdb) (11.2.1)\n",
      "Requirement already satisfied: pyparsing>=2.3.1 in c:\\users\\shrey\\appdata\\local\\programs\\python\\python313\\lib\\site-packages (from matplotlib>=3.2.2->wfdb) (3.2.3)\n",
      "Requirement already satisfied: python-dateutil>=2.7 in c:\\users\\shrey\\appdata\\local\\programs\\python\\python313\\lib\\site-packages (from matplotlib>=3.2.2->wfdb) (2.9.0.post0)\n",
      "Requirement already satisfied: pytz>=2020.1 in c:\\users\\shrey\\appdata\\local\\programs\\python\\python313\\lib\\site-packages (from pandas>=2.2.3->wfdb) (2025.2)\n",
      "Requirement already satisfied: tzdata>=2022.7 in c:\\users\\shrey\\appdata\\local\\programs\\python\\python313\\lib\\site-packages (from pandas>=2.2.3->wfdb) (2025.2)\n",
      "Requirement already satisfied: six>=1.5 in c:\\users\\shrey\\appdata\\local\\programs\\python\\python313\\lib\\site-packages (from python-dateutil>=2.7->matplotlib>=3.2.2->wfdb) (1.17.0)\n",
      "Requirement already satisfied: charset-normalizer<4,>=2 in c:\\users\\shrey\\appdata\\local\\programs\\python\\python313\\lib\\site-packages (from requests>=2.8.1->wfdb) (3.4.2)\n",
      "Requirement already satisfied: urllib3<3,>=1.21.1 in c:\\users\\shrey\\appdata\\local\\programs\\python\\python313\\lib\\site-packages (from requests>=2.8.1->wfdb) (2.4.0)\n",
      "Requirement already satisfied: certifi>=2017.4.17 in c:\\users\\shrey\\appdata\\local\\programs\\python\\python313\\lib\\site-packages (from requests>=2.8.1->wfdb) (2025.4.26)\n",
      "Requirement already satisfied: cffi>=1.0 in c:\\users\\shrey\\appdata\\local\\programs\\python\\python313\\lib\\site-packages (from soundfile>=0.10.0->wfdb) (1.17.1)\n",
      "Requirement already satisfied: pycparser in c:\\users\\shrey\\appdata\\local\\programs\\python\\python313\\lib\\site-packages (from cffi>=1.0->soundfile>=0.10.0->wfdb) (2.22)\n"
     ]
    }
   ],
   "source": [
    "!pip install wfdb"
   ]
  },
  {
   "cell_type": "code",
   "execution_count": 10,
   "id": "54b46a85",
   "metadata": {
    "execution": {
     "iopub.execute_input": "2025-07-02T16:35:02.533324Z",
     "iopub.status.busy": "2025-07-02T16:35:02.532908Z",
     "iopub.status.idle": "2025-07-02T16:35:03.926025Z",
     "shell.execute_reply": "2025-07-02T16:35:03.924974Z",
     "shell.execute_reply.started": "2025-07-02T16:35:02.533279Z"
    },
    "trusted": true
   },
   "outputs": [],
   "source": [
    "import wfdb\n",
    "\n",
    "# Download and load record and annotations for patient #100\n",
    "record = wfdb.rdrecord('100', sampfrom=0, sampto=25002, pn_dir='mitdb')  # first 20,000 samples\n",
    "annotation = wfdb.rdann('100', 'atr', sampfrom=0, sampto=25002, pn_dir='mitdb')"
   ]
  },
  {
   "cell_type": "code",
   "execution_count": 11,
   "id": "7a0e8cf6",
   "metadata": {
    "execution": {
     "iopub.execute_input": "2025-07-02T16:35:03.927501Z",
     "iopub.status.busy": "2025-07-02T16:35:03.927151Z",
     "iopub.status.idle": "2025-07-02T16:35:03.934685Z",
     "shell.execute_reply": "2025-07-02T16:35:03.933623Z",
     "shell.execute_reply.started": "2025-07-02T16:35:03.927479Z"
    },
    "trusted": true
   },
   "outputs": [
    {
     "data": {
      "text/plain": [
       "array([-0.145, -0.145, -0.145, ..., -0.41 , -0.415, -0.425],\n",
       "      shape=(25002,))"
      ]
     },
     "execution_count": 11,
     "metadata": {},
     "output_type": "execute_result"
    }
   ],
   "source": [
    "# Get input signal u(t) from the first channel\n",
    "u = record.p_signal[:, 0] \n",
    "u"
   ]
  },
  {
   "cell_type": "code",
   "execution_count": 12,
   "id": "93538ea2",
   "metadata": {
    "execution": {
     "iopub.execute_input": "2025-07-02T16:35:03.936187Z",
     "iopub.status.busy": "2025-07-02T16:35:03.935901Z",
     "iopub.status.idle": "2025-07-02T16:35:03.953628Z",
     "shell.execute_reply": "2025-07-02T16:35:03.952521Z",
     "shell.execute_reply.started": "2025-07-02T16:35:03.936167Z"
    },
    "trusted": true
   },
   "outputs": [],
   "source": [
    "# Normalize input\n",
    "u_min = np.min(u)\n",
    "u_max = np.max(u)\n",
    "u_norm = (u - u_min) / (u_max - u_min)"
   ]
  },
  {
   "cell_type": "code",
   "execution_count": 13,
   "id": "6dfcd0fb",
   "metadata": {
    "execution": {
     "iopub.execute_input": "2025-07-02T16:35:03.955162Z",
     "iopub.status.busy": "2025-07-02T16:35:03.954824Z",
     "iopub.status.idle": "2025-07-02T16:35:03.963678Z",
     "shell.execute_reply": "2025-07-02T16:35:03.962839Z",
     "shell.execute_reply.started": "2025-07-02T16:35:03.955133Z"
    },
    "trusted": true
   },
   "outputs": [],
   "source": [
    "fs = record.fs  # sampling frequency (should be 360 Hz)\n",
    "t_vals = np.arange(len(u_norm)) / fs"
   ]
  },
  {
   "cell_type": "code",
   "execution_count": 14,
   "id": "ef734865",
   "metadata": {
    "execution": {
     "iopub.execute_input": "2025-07-02T16:35:03.965351Z",
     "iopub.status.busy": "2025-07-02T16:35:03.964923Z",
     "iopub.status.idle": "2025-07-02T16:35:04.020894Z",
     "shell.execute_reply": "2025-07-02T16:35:04.019838Z",
     "shell.execute_reply.started": "2025-07-02T16:35:03.965324Z"
    },
    "trusted": true
   },
   "outputs": [],
   "source": [
    "emb_dim = 3\n",
    "# inputs = u_norm\n",
    "inputs = create_delay_embedding(u_norm, emb_dim)\n",
    "\n",
    "# Create target array (heartbeat locations)\n",
    "targets = np.zeros(len(u_norm))\n",
    "targets[annotation.sample] = 1  # mark annotations as 1 (heartbeat)\n",
    "targets = create_delay_embedding(targets, emb_dim)"
   ]
  },
  {
   "cell_type": "code",
   "execution_count": 15,
   "id": "938389fc",
   "metadata": {
    "execution": {
     "iopub.execute_input": "2025-07-02T16:35:04.022181Z",
     "iopub.status.busy": "2025-07-02T16:35:04.021898Z",
     "iopub.status.idle": "2025-07-02T16:35:04.029322Z",
     "shell.execute_reply": "2025-07-02T16:35:04.027920Z",
     "shell.execute_reply.started": "2025-07-02T16:35:04.022160Z"
    },
    "trusted": true
   },
   "outputs": [
    {
     "name": "stdout",
     "output_type": "stream",
     "text": [
      "Total samples: 25000, train size: 15000, test size: 9999\n"
     ]
    }
   ],
   "source": [
    "data_size = len(inputs)\n",
    "train_size = 15000\n",
    "train_input = inputs[:train_size]\n",
    "train_target = targets[:train_size]\n",
    "test_input = inputs[train_size+1:]\n",
    "test_target = targets[train_size+1:]\n",
    "test_size = len(test_input)\n",
    "print(f\"Total samples: {data_size}, train size: {train_size}, test size: {test_size}\") "
   ]
  },
  {
   "cell_type": "code",
   "execution_count": 16,
   "id": "f2f85de1",
   "metadata": {
    "execution": {
     "execution_failed": "2025-07-02T16:35:29.801Z",
     "iopub.execute_input": "2025-07-02T16:35:04.031404Z",
     "iopub.status.busy": "2025-07-02T16:35:04.031064Z"
    },
    "trusted": true
   },
   "outputs": [
    {
     "name": "stderr",
     "output_type": "stream",
     "text": [
      "100%|██████████| 30/30 [01:08<00:00,  2.28s/it]\n"
     ]
    }
   ],
   "source": [
    "horizons = [300, 600, 1000]\n",
    "\n",
    "nrmse_dict = defaultdict(list)\n",
    "seeds = range(995, 1025)\n",
    "\n",
    "for seed in tqdm(seeds):\n",
    "    fsr = FSR3D(\n",
    "        reservoir_size=300,\n",
    "        frequency_mode='gold',\n",
    "        r_damp=0.1,\n",
    "        eps_couple=0.1,\n",
    "        input_scale=0.01,\n",
    "        leak_rate=0.74,\n",
    "        ridge_alpha=1e-08,\n",
    "        use_gain=True,\n",
    "        gain_beta=2,\n",
    "        gain_sigmoid=True,\n",
    "        use_quadratic_feat=True,\n",
    "        seed=seed\n",
    "    )\n",
    "    fsr.fit_readout(train_input, train_target, discard=5000)\n",
    "    fsr_preds = fsr.predict_open_loop(test_input)\n",
    "    fsr_nrmse = evaluate_nrmse(fsr_preds, test_target, horizons)\n",
    "    nrmse_dict['FSR'].append(fsr_nrmse)"
   ]
  },
  {
   "cell_type": "code",
   "execution_count": 17,
   "id": "337c012a",
   "metadata": {
    "execution": {
     "execution_failed": "2025-07-02T16:35:29.802Z"
    },
    "trusted": true
   },
   "outputs": [
    {
     "name": "stdout",
     "output_type": "stream",
     "text": [
      "\n",
      "NRMSE for Different Prediction Horizons:\n",
      "--------------------------------------------------------------------------------------------------------------------------------------------\n",
      "FSR              \n",
      "--------------------------------------------------------------------------------------------------------------------------------------------\n",
      "300        0.7964435726838145 ± 0.0011043094920344864\n",
      "600        0.7980929123604602 ± 0.0007591047033116995\n",
      "1000       0.8025282217612327 ± 0.0007044631521750918\n"
     ]
    }
   ],
   "source": [
    "print(\"\\nNRMSE for Different Prediction Horizons:\")\n",
    "print(\"-\" * 140)\n",
    "print(f\"{'FSR':<17}\")\n",
    "print(\"-\" * 140)\n",
    "\n",
    "for horizon in horizons:\n",
    "    fsr_vals = [np.mean(fsr_nrmse[horizon]) for fsr_nrmse in nrmse_dict['FSR']]\n",
    "\n",
    "    print(f\"{horizon:<10}\", end=\" \")\n",
    "    for vals in [fsr_vals]:\n",
    "        mean = np.mean(vals)\n",
    "        std = np.std(vals)\n",
    "        print(f\"{mean} ± {std}\".ljust(18), end=\"\")\n",
    "    print()"
   ]
  },
  {
   "cell_type": "markdown",
   "id": "a39c1e20",
   "metadata": {},
   "source": [
    "# Sunspot Dataset"
   ]
  },
  {
   "cell_type": "code",
   "execution_count": 18,
   "id": "3232502c",
   "metadata": {
    "execution": {
     "execution_failed": "2025-07-02T16:35:29.802Z"
    },
    "trusted": true
   },
   "outputs": [
    {
     "ename": "FileNotFoundError",
     "evalue": "[Errno 2] No such file or directory: 'RealWorld/datasets/SN_m_tot_V2.0.csv'",
     "output_type": "error",
     "traceback": [
      "\u001b[31m---------------------------------------------------------------------------\u001b[39m",
      "\u001b[31mFileNotFoundError\u001b[39m                         Traceback (most recent call last)",
      "\u001b[36mCell\u001b[39m\u001b[36m \u001b[39m\u001b[32mIn[18]\u001b[39m\u001b[32m, line 4\u001b[39m\n\u001b[32m      1\u001b[39m \u001b[38;5;28;01mimport\u001b[39;00m\u001b[38;5;250m \u001b[39m\u001b[34;01mpandas\u001b[39;00m\u001b[38;5;250m \u001b[39m\u001b[38;5;28;01mas\u001b[39;00m\u001b[38;5;250m \u001b[39m\u001b[34;01mpd\u001b[39;00m\n\u001b[32m      2\u001b[39m file_path = \u001b[33m'\u001b[39m\u001b[33mRealWorld/datasets/SN_m_tot_V2.0.csv\u001b[39m\u001b[33m'\u001b[39m\n\u001b[32m----> \u001b[39m\u001b[32m4\u001b[39m df = \u001b[43mpd\u001b[49m\u001b[43m.\u001b[49m\u001b[43mread_csv\u001b[49m\u001b[43m(\u001b[49m\u001b[43mfile_path\u001b[49m\u001b[43m,\u001b[49m\u001b[43m \u001b[49m\u001b[43msep\u001b[49m\u001b[43m=\u001b[49m\u001b[33;43m'\u001b[39;49m\u001b[33;43m;\u001b[39;49m\u001b[33;43m'\u001b[39;49m\u001b[43m,\u001b[49m\u001b[43m \u001b[49m\u001b[43mheader\u001b[49m\u001b[43m \u001b[49m\u001b[43m=\u001b[49m\u001b[43m \u001b[49m\u001b[38;5;28;43;01mNone\u001b[39;49;00m\u001b[43m)\u001b[49m\n\u001b[32m      5\u001b[39m df\n",
      "\u001b[36mFile \u001b[39m\u001b[32mc:\\Users\\shrey\\AppData\\Local\\Programs\\Python\\Python313\\Lib\\site-packages\\pandas\\io\\parsers\\readers.py:1026\u001b[39m, in \u001b[36mread_csv\u001b[39m\u001b[34m(filepath_or_buffer, sep, delimiter, header, names, index_col, usecols, dtype, engine, converters, true_values, false_values, skipinitialspace, skiprows, skipfooter, nrows, na_values, keep_default_na, na_filter, verbose, skip_blank_lines, parse_dates, infer_datetime_format, keep_date_col, date_parser, date_format, dayfirst, cache_dates, iterator, chunksize, compression, thousands, decimal, lineterminator, quotechar, quoting, doublequote, escapechar, comment, encoding, encoding_errors, dialect, on_bad_lines, delim_whitespace, low_memory, memory_map, float_precision, storage_options, dtype_backend)\u001b[39m\n\u001b[32m   1013\u001b[39m kwds_defaults = _refine_defaults_read(\n\u001b[32m   1014\u001b[39m     dialect,\n\u001b[32m   1015\u001b[39m     delimiter,\n\u001b[32m   (...)\u001b[39m\u001b[32m   1022\u001b[39m     dtype_backend=dtype_backend,\n\u001b[32m   1023\u001b[39m )\n\u001b[32m   1024\u001b[39m kwds.update(kwds_defaults)\n\u001b[32m-> \u001b[39m\u001b[32m1026\u001b[39m \u001b[38;5;28;01mreturn\u001b[39;00m \u001b[43m_read\u001b[49m\u001b[43m(\u001b[49m\u001b[43mfilepath_or_buffer\u001b[49m\u001b[43m,\u001b[49m\u001b[43m \u001b[49m\u001b[43mkwds\u001b[49m\u001b[43m)\u001b[49m\n",
      "\u001b[36mFile \u001b[39m\u001b[32mc:\\Users\\shrey\\AppData\\Local\\Programs\\Python\\Python313\\Lib\\site-packages\\pandas\\io\\parsers\\readers.py:620\u001b[39m, in \u001b[36m_read\u001b[39m\u001b[34m(filepath_or_buffer, kwds)\u001b[39m\n\u001b[32m    617\u001b[39m _validate_names(kwds.get(\u001b[33m\"\u001b[39m\u001b[33mnames\u001b[39m\u001b[33m\"\u001b[39m, \u001b[38;5;28;01mNone\u001b[39;00m))\n\u001b[32m    619\u001b[39m \u001b[38;5;66;03m# Create the parser.\u001b[39;00m\n\u001b[32m--> \u001b[39m\u001b[32m620\u001b[39m parser = \u001b[43mTextFileReader\u001b[49m\u001b[43m(\u001b[49m\u001b[43mfilepath_or_buffer\u001b[49m\u001b[43m,\u001b[49m\u001b[43m \u001b[49m\u001b[43m*\u001b[49m\u001b[43m*\u001b[49m\u001b[43mkwds\u001b[49m\u001b[43m)\u001b[49m\n\u001b[32m    622\u001b[39m \u001b[38;5;28;01mif\u001b[39;00m chunksize \u001b[38;5;129;01mor\u001b[39;00m iterator:\n\u001b[32m    623\u001b[39m     \u001b[38;5;28;01mreturn\u001b[39;00m parser\n",
      "\u001b[36mFile \u001b[39m\u001b[32mc:\\Users\\shrey\\AppData\\Local\\Programs\\Python\\Python313\\Lib\\site-packages\\pandas\\io\\parsers\\readers.py:1620\u001b[39m, in \u001b[36mTextFileReader.__init__\u001b[39m\u001b[34m(self, f, engine, **kwds)\u001b[39m\n\u001b[32m   1617\u001b[39m     \u001b[38;5;28mself\u001b[39m.options[\u001b[33m\"\u001b[39m\u001b[33mhas_index_names\u001b[39m\u001b[33m\"\u001b[39m] = kwds[\u001b[33m\"\u001b[39m\u001b[33mhas_index_names\u001b[39m\u001b[33m\"\u001b[39m]\n\u001b[32m   1619\u001b[39m \u001b[38;5;28mself\u001b[39m.handles: IOHandles | \u001b[38;5;28;01mNone\u001b[39;00m = \u001b[38;5;28;01mNone\u001b[39;00m\n\u001b[32m-> \u001b[39m\u001b[32m1620\u001b[39m \u001b[38;5;28mself\u001b[39m._engine = \u001b[38;5;28;43mself\u001b[39;49m\u001b[43m.\u001b[49m\u001b[43m_make_engine\u001b[49m\u001b[43m(\u001b[49m\u001b[43mf\u001b[49m\u001b[43m,\u001b[49m\u001b[43m \u001b[49m\u001b[38;5;28;43mself\u001b[39;49m\u001b[43m.\u001b[49m\u001b[43mengine\u001b[49m\u001b[43m)\u001b[49m\n",
      "\u001b[36mFile \u001b[39m\u001b[32mc:\\Users\\shrey\\AppData\\Local\\Programs\\Python\\Python313\\Lib\\site-packages\\pandas\\io\\parsers\\readers.py:1880\u001b[39m, in \u001b[36mTextFileReader._make_engine\u001b[39m\u001b[34m(self, f, engine)\u001b[39m\n\u001b[32m   1878\u001b[39m     \u001b[38;5;28;01mif\u001b[39;00m \u001b[33m\"\u001b[39m\u001b[33mb\u001b[39m\u001b[33m\"\u001b[39m \u001b[38;5;129;01mnot\u001b[39;00m \u001b[38;5;129;01min\u001b[39;00m mode:\n\u001b[32m   1879\u001b[39m         mode += \u001b[33m\"\u001b[39m\u001b[33mb\u001b[39m\u001b[33m\"\u001b[39m\n\u001b[32m-> \u001b[39m\u001b[32m1880\u001b[39m \u001b[38;5;28mself\u001b[39m.handles = \u001b[43mget_handle\u001b[49m\u001b[43m(\u001b[49m\n\u001b[32m   1881\u001b[39m \u001b[43m    \u001b[49m\u001b[43mf\u001b[49m\u001b[43m,\u001b[49m\n\u001b[32m   1882\u001b[39m \u001b[43m    \u001b[49m\u001b[43mmode\u001b[49m\u001b[43m,\u001b[49m\n\u001b[32m   1883\u001b[39m \u001b[43m    \u001b[49m\u001b[43mencoding\u001b[49m\u001b[43m=\u001b[49m\u001b[38;5;28;43mself\u001b[39;49m\u001b[43m.\u001b[49m\u001b[43moptions\u001b[49m\u001b[43m.\u001b[49m\u001b[43mget\u001b[49m\u001b[43m(\u001b[49m\u001b[33;43m\"\u001b[39;49m\u001b[33;43mencoding\u001b[39;49m\u001b[33;43m\"\u001b[39;49m\u001b[43m,\u001b[49m\u001b[43m \u001b[49m\u001b[38;5;28;43;01mNone\u001b[39;49;00m\u001b[43m)\u001b[49m\u001b[43m,\u001b[49m\n\u001b[32m   1884\u001b[39m \u001b[43m    \u001b[49m\u001b[43mcompression\u001b[49m\u001b[43m=\u001b[49m\u001b[38;5;28;43mself\u001b[39;49m\u001b[43m.\u001b[49m\u001b[43moptions\u001b[49m\u001b[43m.\u001b[49m\u001b[43mget\u001b[49m\u001b[43m(\u001b[49m\u001b[33;43m\"\u001b[39;49m\u001b[33;43mcompression\u001b[39;49m\u001b[33;43m\"\u001b[39;49m\u001b[43m,\u001b[49m\u001b[43m \u001b[49m\u001b[38;5;28;43;01mNone\u001b[39;49;00m\u001b[43m)\u001b[49m\u001b[43m,\u001b[49m\n\u001b[32m   1885\u001b[39m \u001b[43m    \u001b[49m\u001b[43mmemory_map\u001b[49m\u001b[43m=\u001b[49m\u001b[38;5;28;43mself\u001b[39;49m\u001b[43m.\u001b[49m\u001b[43moptions\u001b[49m\u001b[43m.\u001b[49m\u001b[43mget\u001b[49m\u001b[43m(\u001b[49m\u001b[33;43m\"\u001b[39;49m\u001b[33;43mmemory_map\u001b[39;49m\u001b[33;43m\"\u001b[39;49m\u001b[43m,\u001b[49m\u001b[43m \u001b[49m\u001b[38;5;28;43;01mFalse\u001b[39;49;00m\u001b[43m)\u001b[49m\u001b[43m,\u001b[49m\n\u001b[32m   1886\u001b[39m \u001b[43m    \u001b[49m\u001b[43mis_text\u001b[49m\u001b[43m=\u001b[49m\u001b[43mis_text\u001b[49m\u001b[43m,\u001b[49m\n\u001b[32m   1887\u001b[39m \u001b[43m    \u001b[49m\u001b[43merrors\u001b[49m\u001b[43m=\u001b[49m\u001b[38;5;28;43mself\u001b[39;49m\u001b[43m.\u001b[49m\u001b[43moptions\u001b[49m\u001b[43m.\u001b[49m\u001b[43mget\u001b[49m\u001b[43m(\u001b[49m\u001b[33;43m\"\u001b[39;49m\u001b[33;43mencoding_errors\u001b[39;49m\u001b[33;43m\"\u001b[39;49m\u001b[43m,\u001b[49m\u001b[43m \u001b[49m\u001b[33;43m\"\u001b[39;49m\u001b[33;43mstrict\u001b[39;49m\u001b[33;43m\"\u001b[39;49m\u001b[43m)\u001b[49m\u001b[43m,\u001b[49m\n\u001b[32m   1888\u001b[39m \u001b[43m    \u001b[49m\u001b[43mstorage_options\u001b[49m\u001b[43m=\u001b[49m\u001b[38;5;28;43mself\u001b[39;49m\u001b[43m.\u001b[49m\u001b[43moptions\u001b[49m\u001b[43m.\u001b[49m\u001b[43mget\u001b[49m\u001b[43m(\u001b[49m\u001b[33;43m\"\u001b[39;49m\u001b[33;43mstorage_options\u001b[39;49m\u001b[33;43m\"\u001b[39;49m\u001b[43m,\u001b[49m\u001b[43m \u001b[49m\u001b[38;5;28;43;01mNone\u001b[39;49;00m\u001b[43m)\u001b[49m\u001b[43m,\u001b[49m\n\u001b[32m   1889\u001b[39m \u001b[43m\u001b[49m\u001b[43m)\u001b[49m\n\u001b[32m   1890\u001b[39m \u001b[38;5;28;01massert\u001b[39;00m \u001b[38;5;28mself\u001b[39m.handles \u001b[38;5;129;01mis\u001b[39;00m \u001b[38;5;129;01mnot\u001b[39;00m \u001b[38;5;28;01mNone\u001b[39;00m\n\u001b[32m   1891\u001b[39m f = \u001b[38;5;28mself\u001b[39m.handles.handle\n",
      "\u001b[36mFile \u001b[39m\u001b[32mc:\\Users\\shrey\\AppData\\Local\\Programs\\Python\\Python313\\Lib\\site-packages\\pandas\\io\\common.py:873\u001b[39m, in \u001b[36mget_handle\u001b[39m\u001b[34m(path_or_buf, mode, encoding, compression, memory_map, is_text, errors, storage_options)\u001b[39m\n\u001b[32m    868\u001b[39m \u001b[38;5;28;01melif\u001b[39;00m \u001b[38;5;28misinstance\u001b[39m(handle, \u001b[38;5;28mstr\u001b[39m):\n\u001b[32m    869\u001b[39m     \u001b[38;5;66;03m# Check whether the filename is to be opened in binary mode.\u001b[39;00m\n\u001b[32m    870\u001b[39m     \u001b[38;5;66;03m# Binary mode does not support 'encoding' and 'newline'.\u001b[39;00m\n\u001b[32m    871\u001b[39m     \u001b[38;5;28;01mif\u001b[39;00m ioargs.encoding \u001b[38;5;129;01mand\u001b[39;00m \u001b[33m\"\u001b[39m\u001b[33mb\u001b[39m\u001b[33m\"\u001b[39m \u001b[38;5;129;01mnot\u001b[39;00m \u001b[38;5;129;01min\u001b[39;00m ioargs.mode:\n\u001b[32m    872\u001b[39m         \u001b[38;5;66;03m# Encoding\u001b[39;00m\n\u001b[32m--> \u001b[39m\u001b[32m873\u001b[39m         handle = \u001b[38;5;28;43mopen\u001b[39;49m\u001b[43m(\u001b[49m\n\u001b[32m    874\u001b[39m \u001b[43m            \u001b[49m\u001b[43mhandle\u001b[49m\u001b[43m,\u001b[49m\n\u001b[32m    875\u001b[39m \u001b[43m            \u001b[49m\u001b[43mioargs\u001b[49m\u001b[43m.\u001b[49m\u001b[43mmode\u001b[49m\u001b[43m,\u001b[49m\n\u001b[32m    876\u001b[39m \u001b[43m            \u001b[49m\u001b[43mencoding\u001b[49m\u001b[43m=\u001b[49m\u001b[43mioargs\u001b[49m\u001b[43m.\u001b[49m\u001b[43mencoding\u001b[49m\u001b[43m,\u001b[49m\n\u001b[32m    877\u001b[39m \u001b[43m            \u001b[49m\u001b[43merrors\u001b[49m\u001b[43m=\u001b[49m\u001b[43merrors\u001b[49m\u001b[43m,\u001b[49m\n\u001b[32m    878\u001b[39m \u001b[43m            \u001b[49m\u001b[43mnewline\u001b[49m\u001b[43m=\u001b[49m\u001b[33;43m\"\u001b[39;49m\u001b[33;43m\"\u001b[39;49m\u001b[43m,\u001b[49m\n\u001b[32m    879\u001b[39m \u001b[43m        \u001b[49m\u001b[43m)\u001b[49m\n\u001b[32m    880\u001b[39m     \u001b[38;5;28;01melse\u001b[39;00m:\n\u001b[32m    881\u001b[39m         \u001b[38;5;66;03m# Binary mode\u001b[39;00m\n\u001b[32m    882\u001b[39m         handle = \u001b[38;5;28mopen\u001b[39m(handle, ioargs.mode)\n",
      "\u001b[31mFileNotFoundError\u001b[39m: [Errno 2] No such file or directory: 'RealWorld/datasets/SN_m_tot_V2.0.csv'"
     ]
    }
   ],
   "source": [
    "import pandas as pd\n",
    "file_path = 'RealWorld/datasets/SN_m_tot_V2.0.csv'\n",
    "\n",
    "df = pd.read_csv(file_path, sep=';', header = None)\n",
    "df"
   ]
  },
  {
   "cell_type": "code",
   "execution_count": null,
   "id": "98f8602b",
   "metadata": {
    "execution": {
     "execution_failed": "2025-07-02T16:35:29.802Z"
    },
    "trusted": true
   },
   "outputs": [],
   "source": [
    "data = df.iloc[:, 3].values\n",
    "dt = 1\n",
    "dataset_size = len(data)\n",
    "data = create_delay_embedding(data, 3)\n",
    "print(f\"Dataset size: {dataset_size}\")\n",
    "\n",
    "# Train/Test Split\n",
    "train_end = 2000\n",
    "train_input  = data[:train_end]\n",
    "train_target = data[1:train_end+1]\n",
    "test_input   = data[train_end:-1]\n",
    "test_target  = data[train_end+1:]\n",
    "y_test = test_target\n",
    "n_test_steps = len(test_target)\n",
    "time_test = np.arange(n_test_steps) * dt\n",
    "\n",
    "print(f\"Train size: {len(train_input)}\\nTest size: {len(test_input)}\")"
   ]
  },
  {
   "cell_type": "code",
   "execution_count": null,
   "id": "c7684b3f",
   "metadata": {
    "execution": {
     "execution_failed": "2025-07-02T16:35:29.802Z"
    },
    "trusted": true
   },
   "outputs": [],
   "source": [
    "horizons = [300, 600, 1000]\n",
    "\n",
    "nrmse_dict = defaultdict(list)\n",
    "seeds = range(995, 1025)\n",
    "\n",
    "for seed in seeds:\n",
    "    fsr = FSR3D(\n",
    "        reservoir_size=300,\n",
    "        frequency_mode='gold',\n",
    "        r_damp=0.01,\n",
    "        eps_couple=0.1,\n",
    "        input_scale=0.5,\n",
    "        leak_rate=0.1,\n",
    "        ridge_alpha=1e-08,\n",
    "        use_gain=True,\n",
    "        gain_beta=60,\n",
    "        gain_sigmoid=True,\n",
    "        use_quadratic_feat=True,\n",
    "        seed=seed\n",
    "    )\n",
    "    fsr.fit_readout(train_input, train_target, discard=100)\n",
    "    fsr_preds = fsr.predict_open_loop(test_input)\n",
    "    fsr_nrmse = evaluate_nrmse(fsr_preds, test_target, horizons)\n",
    "    nrmse_dict['FSR'].append(fsr_nrmse)"
   ]
  },
  {
   "cell_type": "code",
   "execution_count": null,
   "id": "daaef00f",
   "metadata": {
    "execution": {
     "execution_failed": "2025-07-02T16:35:29.802Z"
    },
    "trusted": true
   },
   "outputs": [],
   "source": [
    "print(\"\\nNRMSE for Different Prediction Horizons:\")\n",
    "print(\"-\" * 140)\n",
    "print(f\"{'FSR':<17}\")\n",
    "print(\"-\" * 140)\n",
    "\n",
    "for horizon in horizons:\n",
    "    fsr_vals = [np.mean(fsr_nrmse[horizon]) for fsr_nrmse in nrmse_dict['FSR']]\n",
    "\n",
    "    print(f\"{horizon:<10}\", end=\" \")\n",
    "    for vals in [fsr_vals]:\n",
    "        mean = np.mean(vals)\n",
    "        std = np.std(vals)\n",
    "        print(f\"{mean} ± {std}\".ljust(18), end=\"\")\n",
    "    print()"
   ]
  },
  {
   "cell_type": "markdown",
   "id": "49e6ee32",
   "metadata": {},
   "source": [
    "# Sante Fe Dataset"
   ]
  },
  {
   "cell_type": "code",
   "execution_count": null,
   "id": "2407cfd9",
   "metadata": {
    "execution": {
     "execution_failed": "2025-07-02T16:35:29.802Z"
    },
    "trusted": true
   },
   "outputs": [],
   "source": [
    "import pandas as pd\n",
    "\n",
    "file_path = 'RealWorld/datasets/santa-fe-time-series-competition-data-set-b-1.0.0/b1.txt'\n",
    "\n",
    "df = pd.read_csv(file_path, header=None, sep=' ')\n",
    "df"
   ]
  },
  {
   "cell_type": "code",
   "execution_count": null,
   "id": "b5624624",
   "metadata": {
    "execution": {
     "execution_failed": "2025-07-02T16:35:29.802Z"
    },
    "trusted": true
   },
   "outputs": [],
   "source": [
    "# Normalize the first column (column 0) of the DataFrame\n",
    "df[0] = (df[0] - df[0].min()) / (df[0].max() - df[0].min())"
   ]
  },
  {
   "cell_type": "code",
   "execution_count": null,
   "id": "ae5bf803",
   "metadata": {
    "execution": {
     "execution_failed": "2025-07-02T16:35:29.802Z"
    },
    "trusted": true
   },
   "outputs": [],
   "source": [
    "data = df.iloc[:, 0].values\n",
    "chosen_system = \"SantaFe\"\n",
    "dt = 1\n",
    "T_data = len(data)\n",
    "data = create_delay_embedding(data, 3)\n",
    "print(f\"Data length: {T_data}.\")\n",
    "\n",
    "# Train/Test Split\n",
    "train_end = 7000\n",
    "train_input  = data[:train_end]\n",
    "train_target = data[1:train_end+1]\n",
    "test_input   = data[train_end:-1]\n",
    "test_target  = data[train_end+1:]\n",
    "y_test = test_target\n",
    "n_test_steps = len(test_target)\n",
    "time_test = np.arange(n_test_steps) * dt\n",
    "\n",
    "print(f\"Train size: {len(train_input)}  \\nTest size: {len(test_input)}\")\n"
   ]
  },
  {
   "cell_type": "code",
   "execution_count": null,
   "id": "5900d956",
   "metadata": {
    "execution": {
     "execution_failed": "2025-07-02T16:35:29.802Z"
    },
    "trusted": true
   },
   "outputs": [],
   "source": [
    "horizons = [300, 600, 1000]\n",
    "\n",
    "nrmse_dict = defaultdict(list)\n",
    "seeds = range(995, 1025)\n",
    "\n",
    "for seed in seeds:\n",
    "    fsr = FSR3D(\n",
    "        reservoir_size=300,\n",
    "        frequency_mode='gold',\n",
    "        r_damp=0.01,\n",
    "        eps_couple=0.1,\n",
    "        input_scale=0.5,\n",
    "        leak_rate=0.1,\n",
    "        ridge_alpha=1e-08,\n",
    "        use_gain=True,\n",
    "        gain_beta=60,\n",
    "        gain_sigmoid=True,\n",
    "        use_quadratic_feat=True,\n",
    "        seed=seed\n",
    "    )\n",
    "    fsr.fit_readout(train_input, train_target, discard=100)\n",
    "    fsr_preds = fsr.predict_open_loop(test_input)\n",
    "    fsr_nrmse = evaluate_nrmse(fsr_preds, test_target, horizons)\n",
    "    nrmse_dict['FSR'].append(fsr_nrmse)"
   ]
  },
  {
   "cell_type": "code",
   "execution_count": null,
   "id": "afd4e124",
   "metadata": {
    "execution": {
     "execution_failed": "2025-07-02T16:35:29.802Z"
    },
    "trusted": true
   },
   "outputs": [],
   "source": [
    "print(\"\\nNRMSE for Different Prediction Horizons:\")\n",
    "print(\"-\" * 140)\n",
    "print(f\"{'FSR':<17}\")\n",
    "print(\"-\" * 140)\n",
    "\n",
    "for horizon in horizons:\n",
    "    fsr_vals = [np.mean(fsr_nrmse[horizon]) for fsr_nrmse in nrmse_dict['FSR']]\n",
    "\n",
    "    print(f\"{horizon:<10}\", end=\" \")\n",
    "    for vals in [fsr_vals]:\n",
    "        mean = np.mean(vals)\n",
    "        std = np.std(vals)\n",
    "        print(f\"{mean} ± {std}\".ljust(18), end=\"\")\n",
    "    print()"
   ]
  },
  {
   "cell_type": "code",
   "execution_count": null,
   "id": "27efeeba",
   "metadata": {
    "execution": {
     "execution_failed": "2025-07-02T16:35:29.802Z"
    },
    "trusted": true
   },
   "outputs": [],
   "source": [
    "# for seed in seeds:\n",
    "#     crj = CRJRes3D(\n",
    "#         reservoir_size=500,\n",
    "#         edge_weight=0.8,\n",
    "#         jump=15,\n",
    "#         spectral_radius=0.99,\n",
    "#         input_scale=0.2,\n",
    "#         leaking_rate=0.8,\n",
    "#         ridge_alpha=1e-6,\n",
    "#         seed=seed\n",
    "#     )\n",
    "#     crj.fit_readout(train_input, train_target, discard=5000)\n",
    "#     crj_preds = crj.predict(test_input)\n",
    "#     crj_nrmse = evaluate_nrmse(crj_preds, test_target, all_horizons)\n",
    "#     nrmse_dict['CRJ'].append(crj_nrmse)\n",
    "\n",
    "# for seed in seeds:\n",
    "#     mci_esn = MCIESN3D(\n",
    "#         reservoir_size=500,\n",
    "#         cycle_weight=0.8,\n",
    "#         connect_weight=0.8,\n",
    "#         combine_factor=0.1,\n",
    "#         v1=0.03,\n",
    "#         v2=0.03,\n",
    "#         spectral_radius=0.99,\n",
    "#         leaking_rate=0.8,\n",
    "#         ridge_alpha=1e-6,\n",
    "#         seed=seed\n",
    "#     )\n",
    "#     mci_esn.fit_readout(train_input, train_target, discard=5000)\n",
    "#     mci_esn_preds = mci_esn.predict(test_input)\n",
    "#     mci_esn_nrmse = evaluate_nrmse(mci_esn_preds, test_target, horizons)\n",
    "#     nrmse_dict['MCI-ESN'].append(mci_esn_nrmse)\n",
    "\n",
    "\n",
    "# for seed in seeds:\n",
    "#     deepesn = DeepESN3D(\n",
    "#         num_layers=5,\n",
    "#         reservoir_size=100,\n",
    "#         spectral_radius=0.99,\n",
    "#         input_scale=0.2,\n",
    "#         leaking_rate=0.8,\n",
    "#         ridge_alpha=1e-6,\n",
    "#         seed=seed\n",
    "#     )\n",
    "#     deepesn.fit_readout(train_input, train_target, discard=5000)\n",
    "#     deepesn_preds = deepesn.predict(test_input)\n",
    "#     deepesn_nrmse = evaluate_nrmse(deepesn_preds, test_target, horizons)\n",
    "#     nrmse_dict['DeepESN'].append(deepesn_nrmse)\n"
   ]
  },
  {
   "cell_type": "code",
   "execution_count": null,
   "id": "3e5f0f55",
   "metadata": {
    "execution": {
     "execution_failed": "2025-07-02T16:35:29.802Z"
    },
    "trusted": true
   },
   "outputs": [],
   "source": [
    "for horizon in [1000]:\n",
    "    crj_vals = [np.mean(crj_nrmse[horizon]) for crj_nrmse in nrmse_dict['CRJ']]"
   ]
  },
  {
   "cell_type": "code",
   "execution_count": null,
   "id": "20bd0846",
   "metadata": {
    "execution": {
     "execution_failed": "2025-07-02T16:35:29.802Z"
    },
    "trusted": true
   },
   "outputs": [],
   "source": [
    "crj_vals"
   ]
  },
  {
   "cell_type": "code",
   "execution_count": null,
   "id": "0614d25e",
   "metadata": {
    "execution": {
     "execution_failed": "2025-07-02T16:35:29.802Z"
    },
    "trusted": true
   },
   "outputs": [],
   "source": [
    "nrmse_dict['CRJ']"
   ]
  },
  {
   "cell_type": "code",
   "execution_count": null,
   "id": "4a243d60",
   "metadata": {
    "execution": {
     "execution_failed": "2025-07-02T16:35:29.802Z"
    },
    "trusted": true
   },
   "outputs": [],
   "source": [
    "print(\"\\nNRMSE for Different Prediction Horizons:\")\n",
    "print(\"-\" * 140)\n",
    "print(f\"{'HFR':<17}\")\n",
    "print(\"-\" * 140)\n",
    "\n",
    "\n",
    "for horizon in horizons:\n",
    "    hfr_vals = [np.mean(hfr_nrmse[horizon]) for hfr_nrmse in nrmse_dict['HFR']]\n",
    "\n",
    "    print(f\"{horizon:<10}\", end=\" \")\n",
    "    for vals in [hfr_vals]:\n",
    "        mean = np.mean(vals)\n",
    "        std = np.std(vals)\n",
    "        print(f\"{mean} ± {std}\".ljust(18), end=\"\")\n",
    "    print()"
   ]
  },
  {
   "cell_type": "code",
   "execution_count": null,
   "id": "fe19f3ac",
   "metadata": {
    "trusted": true
   },
   "outputs": [],
   "source": []
  }
 ],
 "metadata": {
  "kaggle": {
   "accelerator": "none",
   "dataSources": [],
   "dockerImageVersionId": 31040,
   "isGpuEnabled": false,
   "isInternetEnabled": true,
   "language": "python",
   "sourceType": "notebook"
  },
  "kernelspec": {
   "display_name": "Python 3",
   "language": "python",
   "name": "python3"
  },
  "language_info": {
   "codemirror_mode": {
    "name": "ipython",
    "version": 3
   },
   "file_extension": ".py",
   "mimetype": "text/x-python",
   "name": "python",
   "nbconvert_exporter": "python",
   "pygments_lexer": "ipython3",
   "version": "3.13.3"
  }
 },
 "nbformat": 4,
 "nbformat_minor": 5
}
