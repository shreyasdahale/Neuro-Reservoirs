{
 "cells": [
  {
   "cell_type": "code",
   "execution_count": 1,
   "id": "7719bb58",
   "metadata": {},
   "outputs": [],
   "source": [
    "import numpy as np\n",
    "from scipy.integrate import odeint"
   ]
  },
  {
   "cell_type": "code",
   "execution_count": 2,
   "id": "0a9c15cc",
   "metadata": {},
   "outputs": [],
   "source": [
    "# reservoir_size = 10"
   ]
  },
  {
   "cell_type": "code",
   "execution_count": 3,
   "id": "8bf229da",
   "metadata": {},
   "outputs": [],
   "source": [
    "# W = np.zeros((reservoir_size, reservoir_size))\n",
    "# for i in range(reservoir_size):\n",
    "#     j = (i+1) % reservoir_size\n",
    "#     W[i, j] = 1.0"
   ]
  },
  {
   "cell_type": "code",
   "execution_count": 4,
   "id": "12883acc",
   "metadata": {},
   "outputs": [],
   "source": [
    "# W"
   ]
  },
  {
   "cell_type": "code",
   "execution_count": 5,
   "id": "386fa4e7",
   "metadata": {},
   "outputs": [],
   "source": [
    "# W = np.zeros((reservoir_size, reservoir_size))\n",
    "# for i in range(reservoir_size):\n",
    "#     # Connect to 3 forward neighbors\n",
    "#     for offset in range(1, 4):\n",
    "#         j = (i + offset) % reservoir_size\n",
    "#         W[i, j] = 1.0\n",
    "#     # Connect to 3 backward neighbors\n",
    "#     for offset in range(1, 4):\n",
    "#         j = (i - offset) % reservoir_size\n",
    "#         W[i, j] = 1.0"
   ]
  },
  {
   "cell_type": "code",
   "execution_count": 6,
   "id": "db1b652a",
   "metadata": {},
   "outputs": [],
   "source": [
    "# W"
   ]
  },
  {
   "cell_type": "code",
   "execution_count": 7,
   "id": "a7fda0e8",
   "metadata": {},
   "outputs": [],
   "source": [
    "# p = 0.5  # rewiring probability\n",
    "\n",
    "# W = np.zeros((reservoir_size, reservoir_size))\n",
    "# for i in range(reservoir_size):\n",
    "#     for offset in range(1, 4):\n",
    "#         W[i, (i + offset) % reservoir_size] = 1.0\n",
    "#         W[i, (i - offset) % reservoir_size] = 1.0\n",
    "\n",
    "# for i in range(reservoir_size):\n",
    "#     current_connections = np.where(W[i] == 1.0)[0]\n",
    "#     for j in current_connections:\n",
    "#         if np.random.rand() < p:\n",
    "#             W[i, j] = 0.0\n",
    "#             possible_nodes = list(set(range(reservoir_size)) - {i} - set(np.where(W[i] == 1.0)[0]))\n",
    "#             if possible_nodes:\n",
    "#                 new_j = np.random.choice(possible_nodes)\n",
    "#                 W[i, new_j] = 1.0"
   ]
  },
  {
   "cell_type": "code",
   "execution_count": 8,
   "id": "64f7ee9f",
   "metadata": {},
   "outputs": [],
   "source": [
    "# W"
   ]
  },
  {
   "cell_type": "code",
   "execution_count": 9,
   "id": "b6f655b6",
   "metadata": {},
   "outputs": [],
   "source": [
    "def lorenz_deriv(state, t, sigma=10.0, rho=28.0, beta=8.0/3.0):\n",
    "    x, y, z = state\n",
    "    dxdt = sigma * (y - x)\n",
    "    dydt = x*(rho - z) - y\n",
    "    dzdt = x*y - beta*z\n",
    "    return [dxdt, dydt, dzdt]\n",
    "\n",
    "def generate_lorenz_data(\n",
    "    initial_state=[1.0, 1.0, 1.0],\n",
    "    tmax=25.0,\n",
    "    dt=0.01,\n",
    "    sigma=10.0,\n",
    "    rho=28.0,\n",
    "    beta=8.0/3.0\n",
    "):\n",
    "    \n",
    "    num_steps = int(tmax / dt)\n",
    "    t_vals = np.linspace(0, tmax, num_steps+1)\n",
    "    sol = odeint(lorenz_deriv, initial_state, t_vals, args=(sigma, rho, beta))\n",
    "    return t_vals, sol"
   ]
  },
  {
   "cell_type": "code",
   "execution_count": 10,
   "id": "c463c1d5",
   "metadata": {},
   "outputs": [],
   "source": [
    "from sklearn.preprocessing import StandardScaler"
   ]
  },
  {
   "cell_type": "code",
   "execution_count": 31,
   "id": "aa80a2a9",
   "metadata": {},
   "outputs": [
    {
     "name": "stdout",
     "output_type": "stream",
     "text": [
      "Data length: 10001, from t=0..110 with dt=0.01.\n",
      "Train size: 7000  Test size: 101\n"
     ]
    }
   ],
   "source": [
    "# 1) Generate Lorenz data\n",
    "tmax = 110\n",
    "dt   = 0.01\n",
    "t_vals, lorenz_traj = generate_lorenz_data(\n",
    "    initial_state=[1.0,1.0,1.0],\n",
    "    tmax=tmax,\n",
    "    dt=dt\n",
    ")\n",
    "\n",
    "washout = 1000\n",
    "t_vals = t_vals[washout:]\n",
    "lorenz_traj = lorenz_traj[washout:]\n",
    "\n",
    "# normalize\n",
    "scaler = StandardScaler()\n",
    "scaler.fit(lorenz_traj)\n",
    "lorenz_traj = scaler.transform(lorenz_traj)\n",
    "\n",
    "T_data = len(lorenz_traj)\n",
    "print(f\"Data length: {T_data}, from t=0..{tmax} with dt={dt}.\")\n",
    "\n",
    "n_test_steps = 101\n",
    "\n",
    "# train/test split\n",
    "train_frac = 0.7\n",
    "train_end = int(train_frac*(T_data-1))\n",
    "train_input  = lorenz_traj[:train_end]\n",
    "train_target = lorenz_traj[1:train_end+1]\n",
    "test_input   = lorenz_traj[train_end:train_end+n_test_steps]\n",
    "test_target  = lorenz_traj[train_end+1:train_end+n_test_steps+1]\n",
    "print(f\"Train size: {len(train_input)}  Test size: {len(test_input)}\")\n",
    "\n",
    "initial_in = test_input[0]"
   ]
  },
  {
   "cell_type": "code",
   "execution_count": 32,
   "id": "f1abdf72",
   "metadata": {},
   "outputs": [],
   "source": [
    "t_vals = t_vals[train_end:train_end+n_test_steps]"
   ]
  },
  {
   "cell_type": "code",
   "execution_count": 33,
   "id": "c6afa769",
   "metadata": {},
   "outputs": [
    {
     "data": {
      "text/plain": [
       "array([80.  , 80.01, 80.02, 80.03, 80.04, 80.05, 80.06, 80.07, 80.08,\n",
       "       80.09, 80.1 , 80.11, 80.12, 80.13, 80.14, 80.15, 80.16, 80.17,\n",
       "       80.18, 80.19, 80.2 , 80.21, 80.22, 80.23, 80.24, 80.25, 80.26,\n",
       "       80.27, 80.28, 80.29, 80.3 , 80.31, 80.32, 80.33, 80.34, 80.35,\n",
       "       80.36, 80.37, 80.38, 80.39, 80.4 , 80.41, 80.42, 80.43, 80.44,\n",
       "       80.45, 80.46, 80.47, 80.48, 80.49, 80.5 , 80.51, 80.52, 80.53,\n",
       "       80.54, 80.55, 80.56, 80.57, 80.58, 80.59, 80.6 , 80.61, 80.62,\n",
       "       80.63, 80.64, 80.65, 80.66, 80.67, 80.68, 80.69, 80.7 , 80.71,\n",
       "       80.72, 80.73, 80.74, 80.75, 80.76, 80.77, 80.78, 80.79, 80.8 ,\n",
       "       80.81, 80.82, 80.83, 80.84, 80.85, 80.86, 80.87, 80.88, 80.89,\n",
       "       80.9 , 80.91, 80.92, 80.93, 80.94, 80.95, 80.96, 80.97, 80.98,\n",
       "       80.99, 81.  ])"
      ]
     },
     "execution_count": 33,
     "metadata": {},
     "output_type": "execute_result"
    }
   ],
   "source": [
    "t_vals"
   ]
  }
 ],
 "metadata": {
  "kernelspec": {
   "display_name": "Python 3",
   "language": "python",
   "name": "python3"
  },
  "language_info": {
   "codemirror_mode": {
    "name": "ipython",
    "version": 3
   },
   "file_extension": ".py",
   "mimetype": "text/x-python",
   "name": "python",
   "nbconvert_exporter": "python",
   "pygments_lexer": "ipython3",
   "version": "3.12.0"
  }
 },
 "nbformat": 4,
 "nbformat_minor": 5
}
