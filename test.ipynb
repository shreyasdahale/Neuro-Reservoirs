{
 "cells": [
  {
   "cell_type": "code",
   "execution_count": 1,
   "id": "7719bb58",
   "metadata": {},
   "outputs": [],
   "source": [
    "import numpy as np"
   ]
  },
  {
   "cell_type": "code",
   "execution_count": 2,
   "id": "0a9c15cc",
   "metadata": {},
   "outputs": [],
   "source": [
    "reservoir_size = 10"
   ]
  },
  {
   "cell_type": "code",
   "execution_count": 3,
   "id": "8bf229da",
   "metadata": {},
   "outputs": [],
   "source": [
    "W = np.zeros((reservoir_size, reservoir_size))\n",
    "for i in range(reservoir_size):\n",
    "    j = (i+1) % reservoir_size\n",
    "    W[i, j] = 1.0"
   ]
  },
  {
   "cell_type": "code",
   "execution_count": 4,
   "id": "12883acc",
   "metadata": {},
   "outputs": [
    {
     "data": {
      "text/plain": [
       "array([[0., 1., 0., 0., 0., 0., 0., 0., 0., 0.],\n",
       "       [0., 0., 1., 0., 0., 0., 0., 0., 0., 0.],\n",
       "       [0., 0., 0., 1., 0., 0., 0., 0., 0., 0.],\n",
       "       [0., 0., 0., 0., 1., 0., 0., 0., 0., 0.],\n",
       "       [0., 0., 0., 0., 0., 1., 0., 0., 0., 0.],\n",
       "       [0., 0., 0., 0., 0., 0., 1., 0., 0., 0.],\n",
       "       [0., 0., 0., 0., 0., 0., 0., 1., 0., 0.],\n",
       "       [0., 0., 0., 0., 0., 0., 0., 0., 1., 0.],\n",
       "       [0., 0., 0., 0., 0., 0., 0., 0., 0., 1.],\n",
       "       [1., 0., 0., 0., 0., 0., 0., 0., 0., 0.]])"
      ]
     },
     "execution_count": 4,
     "metadata": {},
     "output_type": "execute_result"
    }
   ],
   "source": [
    "W"
   ]
  },
  {
   "cell_type": "code",
   "execution_count": 5,
   "id": "386fa4e7",
   "metadata": {},
   "outputs": [],
   "source": [
    "W = np.zeros((reservoir_size, reservoir_size))\n",
    "for i in range(reservoir_size):\n",
    "    # Connect to 3 forward neighbors\n",
    "    for offset in range(1, 4):\n",
    "        j = (i + offset) % reservoir_size\n",
    "        W[i, j] = 1.0\n",
    "    # Connect to 3 backward neighbors\n",
    "    for offset in range(1, 4):\n",
    "        j = (i - offset) % reservoir_size\n",
    "        W[i, j] = 1.0"
   ]
  },
  {
   "cell_type": "code",
   "execution_count": 6,
   "id": "db1b652a",
   "metadata": {},
   "outputs": [
    {
     "data": {
      "text/plain": [
       "array([[0., 1., 1., 1., 0., 0., 0., 1., 1., 1.],\n",
       "       [1., 0., 1., 1., 1., 0., 0., 0., 1., 1.],\n",
       "       [1., 1., 0., 1., 1., 1., 0., 0., 0., 1.],\n",
       "       [1., 1., 1., 0., 1., 1., 1., 0., 0., 0.],\n",
       "       [0., 1., 1., 1., 0., 1., 1., 1., 0., 0.],\n",
       "       [0., 0., 1., 1., 1., 0., 1., 1., 1., 0.],\n",
       "       [0., 0., 0., 1., 1., 1., 0., 1., 1., 1.],\n",
       "       [1., 0., 0., 0., 1., 1., 1., 0., 1., 1.],\n",
       "       [1., 1., 0., 0., 0., 1., 1., 1., 0., 1.],\n",
       "       [1., 1., 1., 0., 0., 0., 1., 1., 1., 0.]])"
      ]
     },
     "execution_count": 6,
     "metadata": {},
     "output_type": "execute_result"
    }
   ],
   "source": [
    "W"
   ]
  },
  {
   "cell_type": "code",
   "execution_count": null,
   "id": "a7fda0e8",
   "metadata": {},
   "outputs": [],
   "source": [
    "p = 0.5  # rewiring probability\n",
    "\n",
    "W = np.zeros((reservoir_size, reservoir_size))\n",
    "for i in range(reservoir_size):\n",
    "    for offset in range(1, 4):\n",
    "        W[i, (i + offset) % reservoir_size] = 1.0\n",
    "        W[i, (i - offset) % reservoir_size] = 1.0\n",
    "\n",
    "for i in range(reservoir_size):\n",
    "    current_connections = np.where(W[i] == 1.0)[0]\n",
    "    for j in current_connections:\n",
    "        if np.random.rand() < p:\n",
    "            W[i, j] = 0.0\n",
    "            possible_nodes = list(set(range(reservoir_size)) - {i} - set(np.where(W[i] == 1.0)[0]))\n",
    "            if possible_nodes:\n",
    "                new_j = np.random.choice(possible_nodes)\n",
    "                W[i, new_j] = 1.0"
   ]
  },
  {
   "cell_type": "code",
   "execution_count": 10,
   "id": "64f7ee9f",
   "metadata": {},
   "outputs": [
    {
     "data": {
      "text/plain": [
       "array([[0., 1., 1., 1., 1., 1., 0., 0., 1., 0.],\n",
       "       [1., 0., 1., 1., 0., 1., 1., 1., 0., 0.],\n",
       "       [1., 1., 0., 1., 1., 1., 0., 0., 0., 1.],\n",
       "       [1., 1., 1., 0., 1., 0., 1., 1., 0., 0.],\n",
       "       [0., 0., 1., 1., 0., 1., 1., 0., 1., 1.],\n",
       "       [0., 1., 1., 1., 1., 0., 1., 0., 1., 0.],\n",
       "       [1., 0., 0., 1., 0., 1., 0., 1., 1., 1.],\n",
       "       [1., 1., 0., 1., 1., 0., 1., 0., 0., 1.],\n",
       "       [1., 1., 0., 1., 0., 1., 1., 0., 0., 1.],\n",
       "       [0., 1., 1., 0., 1., 1., 1., 0., 1., 0.]])"
      ]
     },
     "execution_count": 10,
     "metadata": {},
     "output_type": "execute_result"
    }
   ],
   "source": [
    "W"
   ]
  },
  {
   "cell_type": "code",
   "execution_count": null,
   "id": "aa80a2a9",
   "metadata": {},
   "outputs": [],
   "source": []
  }
 ],
 "metadata": {
  "kernelspec": {
   "display_name": "Python 3",
   "language": "python",
   "name": "python3"
  },
  "language_info": {
   "codemirror_mode": {
    "name": "ipython",
    "version": 3
   },
   "file_extension": ".py",
   "mimetype": "text/x-python",
   "name": "python",
   "nbconvert_exporter": "python",
   "pygments_lexer": "ipython3",
   "version": "3.12.0"
  }
 },
 "nbformat": 4,
 "nbformat_minor": 5
}
