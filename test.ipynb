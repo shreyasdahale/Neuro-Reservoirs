{
 "cells": [
  {
   "cell_type": "code",
   "execution_count": 2,
   "id": "7719bb58",
   "metadata": {},
   "outputs": [],
   "source": [
    "import numpy as np\n",
    "from scipy.integrate import odeint"
   ]
  },
  {
   "cell_type": "code",
   "execution_count": 3,
   "id": "0a9c15cc",
   "metadata": {},
   "outputs": [],
   "source": [
    "# reservoir_size = 10"
   ]
  },
  {
   "cell_type": "code",
   "execution_count": 4,
   "id": "8bf229da",
   "metadata": {},
   "outputs": [],
   "source": [
    "# W = np.zeros((reservoir_size, reservoir_size))\n",
    "# for i in range(reservoir_size):\n",
    "#     j = (i+1) % reservoir_size\n",
    "#     W[i, j] = 1.0"
   ]
  },
  {
   "cell_type": "code",
   "execution_count": 5,
   "id": "12883acc",
   "metadata": {},
   "outputs": [],
   "source": [
    "# W"
   ]
  },
  {
   "cell_type": "code",
   "execution_count": 6,
   "id": "386fa4e7",
   "metadata": {},
   "outputs": [],
   "source": [
    "# W = np.zeros((reservoir_size, reservoir_size))\n",
    "# for i in range(reservoir_size):\n",
    "#     # Connect to 3 forward neighbors\n",
    "#     for offset in range(1, 4):\n",
    "#         j = (i + offset) % reservoir_size\n",
    "#         W[i, j] = 1.0\n",
    "#     # Connect to 3 backward neighbors\n",
    "#     for offset in range(1, 4):\n",
    "#         j = (i - offset) % reservoir_size\n",
    "#         W[i, j] = 1.0"
   ]
  },
  {
   "cell_type": "code",
   "execution_count": 7,
   "id": "db1b652a",
   "metadata": {},
   "outputs": [],
   "source": [
    "# W"
   ]
  },
  {
   "cell_type": "code",
   "execution_count": 8,
   "id": "a7fda0e8",
   "metadata": {},
   "outputs": [],
   "source": [
    "# p = 0.5  # rewiring probability\n",
    "\n",
    "# W = np.zeros((reservoir_size, reservoir_size))\n",
    "# for i in range(reservoir_size):\n",
    "#     for offset in range(1, 4):\n",
    "#         W[i, (i + offset) % reservoir_size] = 1.0\n",
    "#         W[i, (i - offset) % reservoir_size] = 1.0\n",
    "\n",
    "# for i in range(reservoir_size):\n",
    "#     current_connections = np.where(W[i] == 1.0)[0]\n",
    "#     for j in current_connections:\n",
    "#         if np.random.rand() < p:\n",
    "#             W[i, j] = 0.0\n",
    "#             possible_nodes = list(set(range(reservoir_size)) - {i} - set(np.where(W[i] == 1.0)[0]))\n",
    "#             if possible_nodes:\n",
    "#                 new_j = np.random.choice(possible_nodes)\n",
    "#                 W[i, new_j] = 1.0"
   ]
  },
  {
   "cell_type": "code",
   "execution_count": 9,
   "id": "64f7ee9f",
   "metadata": {},
   "outputs": [],
   "source": [
    "# W"
   ]
  },
  {
   "cell_type": "code",
   "execution_count": 10,
   "id": "b6f655b6",
   "metadata": {},
   "outputs": [],
   "source": [
    "def lorenz_deriv(state, t, sigma=10.0, rho=28.0, beta=8.0/3.0):\n",
    "    x, y, z = state\n",
    "    dxdt = sigma * (y - x)\n",
    "    dydt = x*(rho - z) - y\n",
    "    dzdt = x*y - beta*z\n",
    "    return [dxdt, dydt, dzdt]\n",
    "\n",
    "def generate_lorenz_data(\n",
    "    initial_state=[1.0, 1.0, 1.0],\n",
    "    tmax=25.0,\n",
    "    dt=0.01,\n",
    "    sigma=10.0,\n",
    "    rho=28.0,\n",
    "    beta=8.0/3.0\n",
    "):\n",
    "    \n",
    "    num_steps = int(tmax / dt)\n",
    "    t_vals = np.linspace(0, tmax, num_steps+1)\n",
    "    sol = odeint(lorenz_deriv, initial_state, t_vals, args=(sigma, rho, beta))\n",
    "    return t_vals, sol"
   ]
  },
  {
   "cell_type": "code",
   "execution_count": 11,
   "id": "c463c1d5",
   "metadata": {},
   "outputs": [],
   "source": [
    "from sklearn.preprocessing import StandardScaler"
   ]
  },
  {
   "cell_type": "code",
   "execution_count": 28,
   "id": "aa80a2a9",
   "metadata": {},
   "outputs": [
    {
     "name": "stdout",
     "output_type": "stream",
     "text": [
      "Data length: 10001, from t=0..110 with dt=0.01.\n",
      "Train size: 7000  Test size: 3000\n"
     ]
    }
   ],
   "source": [
    "tmax = 110\n",
    "dt   = 0.01\n",
    "t_vals, lorenz_traj = generate_lorenz_data(\n",
    "    initial_state=[1.0,1.0,1.0],\n",
    "    tmax=tmax,\n",
    "    dt=dt\n",
    ")\n",
    "\n",
    "washout = 1000\n",
    "t_vals = t_vals[washout:]\n",
    "lorenz_traj = lorenz_traj[washout:]\n",
    "\n",
    "# normalize\n",
    "scaler = StandardScaler()\n",
    "scaler.fit(lorenz_traj)\n",
    "lorenz_traj = scaler.transform(lorenz_traj)\n",
    "\n",
    "T_data = len(lorenz_traj)\n",
    "print(f\"Data length: {T_data}, from t=0..{tmax} with dt={dt}.\")\n",
    "\n",
    "n_test_steps = 3000\n",
    "\n",
    "# train/test split\n",
    "train_frac = 0.7\n",
    "train_end = int(train_frac*(T_data-1))\n",
    "train_input  = lorenz_traj[:train_end]\n",
    "train_target = lorenz_traj[1:train_end+1]\n",
    "test_input   = lorenz_traj[train_end:train_end+n_test_steps]\n",
    "test_target  = lorenz_traj[train_end+1:train_end+n_test_steps+1]\n",
    "print(f\"Train size: {len(train_input)}  Test size: {len(test_input)}\")\n",
    "\n",
    "initial_in = test_input[0]"
   ]
  },
  {
   "cell_type": "code",
   "execution_count": 29,
   "id": "5bba4415",
   "metadata": {},
   "outputs": [
    {
     "data": {
      "text/plain": [
       "(3000, 3)"
      ]
     },
     "execution_count": 29,
     "metadata": {},
     "output_type": "execute_result"
    }
   ],
   "source": [
    "test_input.shape"
   ]
  },
  {
   "cell_type": "code",
   "execution_count": 30,
   "id": "8e7e916e",
   "metadata": {},
   "outputs": [
    {
     "data": {
      "text/plain": [
       "array([ 10.  ,  10.01,  10.02, ..., 109.98, 109.99, 110.  ])"
      ]
     },
     "execution_count": 30,
     "metadata": {},
     "output_type": "execute_result"
    }
   ],
   "source": [
    "t_vals"
   ]
  },
  {
   "cell_type": "code",
   "execution_count": 31,
   "id": "608f3764",
   "metadata": {},
   "outputs": [],
   "source": [
    "num_steps = int(tmax / dt)\n",
    "t_vals = np.linspace(0, tmax, num_steps+1)"
   ]
  },
  {
   "cell_type": "code",
   "execution_count": 32,
   "id": "a0286b88",
   "metadata": {},
   "outputs": [
    {
     "data": {
      "text/plain": [
       "0.01"
      ]
     },
     "execution_count": 32,
     "metadata": {},
     "output_type": "execute_result"
    }
   ],
   "source": [
    "t_vals[1]"
   ]
  },
  {
   "cell_type": "code",
   "execution_count": 33,
   "id": "453ac0d6",
   "metadata": {},
   "outputs": [
    {
     "data": {
      "text/plain": [
       "array([0.000e+00, 1.000e-01, 2.000e-01, ..., 1.098e+02, 1.099e+02,\n",
       "       1.100e+02])"
      ]
     },
     "execution_count": 33,
     "metadata": {},
     "output_type": "execute_result"
    }
   ],
   "source": [
    "np.linspace(0, 110, 1101)"
   ]
  },
  {
   "cell_type": "code",
   "execution_count": 34,
   "id": "3db2bf61",
   "metadata": {},
   "outputs": [],
   "source": [
    "test_target  = lorenz_traj[train_end+1:train_end+n_test_steps+1]"
   ]
  },
  {
   "cell_type": "code",
   "execution_count": 35,
   "id": "ff499d30",
   "metadata": {},
   "outputs": [
    {
     "data": {
      "text/plain": [
       "(3000, 3)"
      ]
     },
     "execution_count": 35,
     "metadata": {},
     "output_type": "execute_result"
    }
   ],
   "source": [
    "test_target.shape"
   ]
  },
  {
   "cell_type": "code",
   "execution_count": 36,
   "id": "624212f7",
   "metadata": {},
   "outputs": [],
   "source": [
    "test_target  = lorenz_traj[train_end+1:train_end+n_test_steps+1]"
   ]
  },
  {
   "cell_type": "code",
   "execution_count": 37,
   "id": "a0eb9fa8",
   "metadata": {},
   "outputs": [
    {
     "data": {
      "text/plain": [
       "(3000, 3)"
      ]
     },
     "execution_count": 37,
     "metadata": {},
     "output_type": "execute_result"
    }
   ],
   "source": [
    "test_target.shape"
   ]
  },
  {
   "cell_type": "code",
   "execution_count": null,
   "id": "7ab7922f",
   "metadata": {},
   "outputs": [],
   "source": []
  }
 ],
 "metadata": {
  "kernelspec": {
   "display_name": "Python 3",
   "language": "python",
   "name": "python3"
  },
  "language_info": {
   "codemirror_mode": {
    "name": "ipython",
    "version": 3
   },
   "file_extension": ".py",
   "mimetype": "text/x-python",
   "name": "python",
   "nbconvert_exporter": "python",
   "pygments_lexer": "ipython3",
   "version": "3.12.0"
  }
 },
 "nbformat": 4,
 "nbformat_minor": 5
}
